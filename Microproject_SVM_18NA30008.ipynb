{
  "nbformat": 4,
  "nbformat_minor": 0,
  "metadata": {
    "colab": {
      "name": "Copy of Copy_of_MLFA_microproject_SVM.ipynb",
      "provenance": [],
      "collapsed_sections": []
    },
    "kernelspec": {
      "name": "python3",
      "display_name": "Python 3"
    },
    "language_info": {
      "name": "python"
    },
    "widgets": {
      "application/vnd.jupyter.widget-state+json": {
        "1997fe7ac0be4607b664d53d302514aa": {
          "model_module": "@jupyter-widgets/controls",
          "model_name": "VBoxModel",
          "model_module_version": "1.5.0",
          "state": {
            "_view_name": "VBoxView",
            "_dom_classes": [
              "widget-interact"
            ],
            "_model_name": "VBoxModel",
            "_view_module": "@jupyter-widgets/controls",
            "_model_module_version": "1.5.0",
            "_view_count": null,
            "_view_module_version": "1.5.0",
            "box_style": "",
            "layout": "IPY_MODEL_a936d03b28a1443381ae27547dc3b2c5",
            "_model_module": "@jupyter-widgets/controls",
            "children": [
              "IPY_MODEL_656082ca09d34f8f870578e785a48b51",
              "IPY_MODEL_ce854497a84d458e849bc58ba7987e8d"
            ]
          }
        },
        "a936d03b28a1443381ae27547dc3b2c5": {
          "model_module": "@jupyter-widgets/base",
          "model_name": "LayoutModel",
          "model_module_version": "1.2.0",
          "state": {
            "_view_name": "LayoutView",
            "grid_template_rows": null,
            "right": null,
            "justify_content": null,
            "_view_module": "@jupyter-widgets/base",
            "overflow": null,
            "_model_module_version": "1.2.0",
            "_view_count": null,
            "flex_flow": null,
            "width": null,
            "min_width": null,
            "border": null,
            "align_items": null,
            "bottom": null,
            "_model_module": "@jupyter-widgets/base",
            "top": null,
            "grid_column": null,
            "overflow_y": null,
            "overflow_x": null,
            "grid_auto_flow": null,
            "grid_area": null,
            "grid_template_columns": null,
            "flex": null,
            "_model_name": "LayoutModel",
            "justify_items": null,
            "grid_row": null,
            "max_height": null,
            "align_content": null,
            "visibility": null,
            "align_self": null,
            "height": null,
            "min_height": null,
            "padding": null,
            "grid_auto_rows": null,
            "grid_gap": null,
            "max_width": null,
            "order": null,
            "_view_module_version": "1.2.0",
            "grid_template_areas": null,
            "object_position": null,
            "object_fit": null,
            "grid_auto_columns": null,
            "margin": null,
            "display": null,
            "left": null
          }
        },
        "656082ca09d34f8f870578e785a48b51": {
          "model_module": "@jupyter-widgets/controls",
          "model_name": "DropdownModel",
          "model_module_version": "1.5.0",
          "state": {
            "_options_labels": [
              "1",
              "10",
              "1000",
              "10000",
              "100000"
            ],
            "_view_name": "DropdownView",
            "style": "IPY_MODEL_07ca2203928d4106afe213877ec8e995",
            "_dom_classes": [],
            "description": "x",
            "_model_name": "DropdownModel",
            "index": 0,
            "_view_module": "@jupyter-widgets/controls",
            "_model_module_version": "1.5.0",
            "_view_count": null,
            "disabled": false,
            "_view_module_version": "1.5.0",
            "description_tooltip": null,
            "_model_module": "@jupyter-widgets/controls",
            "layout": "IPY_MODEL_db0135d9baba4e5ebb01525f46382fdf"
          }
        },
        "ce854497a84d458e849bc58ba7987e8d": {
          "model_module": "@jupyter-widgets/output",
          "model_name": "OutputModel",
          "model_module_version": "1.0.0",
          "state": {
            "_view_name": "OutputView",
            "msg_id": "",
            "_dom_classes": [],
            "_model_name": "OutputModel",
            "outputs": [
              {
                "output_type": "stream",
                "name": "stderr",
                "text": [
                  "*c* argument looks like a single numeric RGB or RGBA sequence, which should be avoided as value-mapping will have precedence in case its length matches with *x* & *y*.  Please use the *color* keyword-argument or provide a 2-D array with a single row if you intend to specify the same RGB or RGBA value for all points.\n"
                ]
              },
              {
                "output_type": "stream",
                "name": "stderr",
                "text": [
                  "*c* argument looks like a single numeric RGB or RGBA sequence, which should be avoided as value-mapping will have precedence in case its length matches with *x* & *y*.  Please use the *color* keyword-argument or provide a 2-D array with a single row if you intend to specify the same RGB or RGBA value for all points.\n"
                ]
              },
              {
                "output_type": "display_data",
                "data": {
                  "image/png": "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\n",
                  "text/plain": "<Figure size 720x720 with 1 Axes>"
                },
                "metadata": {
                  "needs_background": "light"
                }
              }
            ],
            "_view_module": "@jupyter-widgets/output",
            "_model_module_version": "1.0.0",
            "_view_count": null,
            "_view_module_version": "1.0.0",
            "layout": "IPY_MODEL_1dabcee992c14fe38ece1fa874ae6ab2",
            "_model_module": "@jupyter-widgets/output"
          }
        },
        "07ca2203928d4106afe213877ec8e995": {
          "model_module": "@jupyter-widgets/controls",
          "model_name": "DescriptionStyleModel",
          "model_module_version": "1.5.0",
          "state": {
            "_view_name": "StyleView",
            "_model_name": "DescriptionStyleModel",
            "description_width": "",
            "_view_module": "@jupyter-widgets/base",
            "_model_module_version": "1.5.0",
            "_view_count": null,
            "_view_module_version": "1.2.0",
            "_model_module": "@jupyter-widgets/controls"
          }
        },
        "db0135d9baba4e5ebb01525f46382fdf": {
          "model_module": "@jupyter-widgets/base",
          "model_name": "LayoutModel",
          "model_module_version": "1.2.0",
          "state": {
            "_view_name": "LayoutView",
            "grid_template_rows": null,
            "right": null,
            "justify_content": null,
            "_view_module": "@jupyter-widgets/base",
            "overflow": null,
            "_model_module_version": "1.2.0",
            "_view_count": null,
            "flex_flow": null,
            "width": null,
            "min_width": null,
            "border": null,
            "align_items": null,
            "bottom": null,
            "_model_module": "@jupyter-widgets/base",
            "top": null,
            "grid_column": null,
            "overflow_y": null,
            "overflow_x": null,
            "grid_auto_flow": null,
            "grid_area": null,
            "grid_template_columns": null,
            "flex": null,
            "_model_name": "LayoutModel",
            "justify_items": null,
            "grid_row": null,
            "max_height": null,
            "align_content": null,
            "visibility": null,
            "align_self": null,
            "height": null,
            "min_height": null,
            "padding": null,
            "grid_auto_rows": null,
            "grid_gap": null,
            "max_width": null,
            "order": null,
            "_view_module_version": "1.2.0",
            "grid_template_areas": null,
            "object_position": null,
            "object_fit": null,
            "grid_auto_columns": null,
            "margin": null,
            "display": null,
            "left": null
          }
        },
        "1dabcee992c14fe38ece1fa874ae6ab2": {
          "model_module": "@jupyter-widgets/base",
          "model_name": "LayoutModel",
          "model_module_version": "1.2.0",
          "state": {
            "_view_name": "LayoutView",
            "grid_template_rows": null,
            "right": null,
            "justify_content": null,
            "_view_module": "@jupyter-widgets/base",
            "overflow": null,
            "_model_module_version": "1.2.0",
            "_view_count": null,
            "flex_flow": null,
            "width": null,
            "min_width": null,
            "border": null,
            "align_items": null,
            "bottom": null,
            "_model_module": "@jupyter-widgets/base",
            "top": null,
            "grid_column": null,
            "overflow_y": null,
            "overflow_x": null,
            "grid_auto_flow": null,
            "grid_area": null,
            "grid_template_columns": null,
            "flex": null,
            "_model_name": "LayoutModel",
            "justify_items": null,
            "grid_row": null,
            "max_height": null,
            "align_content": null,
            "visibility": null,
            "align_self": null,
            "height": null,
            "min_height": null,
            "padding": null,
            "grid_auto_rows": null,
            "grid_gap": null,
            "max_width": null,
            "order": null,
            "_view_module_version": "1.2.0",
            "grid_template_areas": null,
            "object_position": null,
            "object_fit": null,
            "grid_auto_columns": null,
            "margin": null,
            "display": null,
            "left": null
          }
        }
      }
    }
  },
  "cells": [
    {
      "cell_type": "code",
      "metadata": {
        "id": "7EBbbHFq614S"
      },
      "source": [
        "# Import packages to visualize the classifer\n",
        "from matplotlib.colors import ListedColormap\n",
        "import matplotlib.pyplot as plt\n",
        "import warnings\n",
        "from sklearn.model_selection import train_test_split\n",
        "# Import packages to do the classifying\n",
        "from sklearn import metrics\n",
        "import numpy as np\n",
        "from sklearn.svm import SVC"
      ],
      "execution_count": null,
      "outputs": []
    },
    {
      "cell_type": "markdown",
      "metadata": {
        "id": "w8ls9urBdpJI"
      },
      "source": [
        "**Function for plotting the decision boundary**"
      ]
    },
    {
      "cell_type": "code",
      "metadata": {
        "id": "sxiQWgZR7AUr"
      },
      "source": [
        "def versiontuple(v):\n",
        "    return tuple(map(int, (v.split(\".\"))))\n",
        "\n",
        "\n",
        "def plot_decision_regions(X, y, classifier, test_idx=None, resolution=0.02):\n",
        "\n",
        "    # setup marker generator and color map\n",
        "    markers = ('s', 'x', 'o', '^', 'v')\n",
        "    colors = ('red', 'blue', 'lightgreen', 'gray', 'cyan')\n",
        "    cmap = ListedColormap(colors[:len(np.unique(y))])\n",
        "\n",
        "    # plot the decision surface\n",
        "    x1_min, x1_max = X[:, 0].min() - 1, X[:, 0].max() + 1\n",
        "    x2_min, x2_max = X[:, 1].min() - 1, X[:, 1].max() + 1\n",
        "    xx1, xx2 = np.meshgrid(np.arange(x1_min, x1_max, resolution),\n",
        "                           np.arange(x2_min, x2_max, resolution))\n",
        "    Z = classifier.predict(np.array([xx1.ravel(), xx2.ravel()]).T)\n",
        "    Z = Z.reshape(xx1.shape)\n",
        "    plt.contourf(xx1, xx2, Z, alpha=0.4, cmap=cmap)\n",
        "    plt.xlim(xx1.min(), xx1.max())\n",
        "    plt.ylim(xx2.min(), xx2.max())\n",
        "\n",
        "    for idx, cl in enumerate(np.unique(y)):\n",
        "        plt.scatter(x=X[y == cl, 0], y=X[y == cl, 1],\n",
        "                    alpha=0.8, c=cmap(idx),\n",
        "                    marker=markers[idx], label=cl)\n",
        "\n",
        "    # highlight test samples\n",
        "    if test_idx:\n",
        "        # plot all samples\n",
        "        if not versiontuple(np.__version__) >= versiontuple('1.9.0'):\n",
        "            X_test, y_test = X[list(test_idx), :], y[list(test_idx)]\n",
        "            warnings.warn('Please update to NumPy 1.9.0 or newer')\n",
        "        else:\n",
        "            X_test, y_test = X[test_idx, :], y[test_idx]\n",
        "\n",
        "        plt.scatter(X_test[:, 0],\n",
        "                    X_test[:, 1],\n",
        "                    c='',\n",
        "                    alpha=1.0,\n",
        "                    linewidths=1,\n",
        "                    marker='o',\n",
        "                    s=55, label='test set')"
      ],
      "execution_count": null,
      "outputs": []
    },
    {
      "cell_type": "markdown",
      "metadata": {
        "id": "hpYsWLLPd7QA"
      },
      "source": [
        "**Creating the Dataset**"
      ]
    },
    {
      "cell_type": "code",
      "metadata": {
        "colab": {
          "base_uri": "https://localhost:8080/",
          "height": 729
        },
        "id": "FCGiqFoK-yOa",
        "outputId": "31652a1d-6f22-49f1-a899-939f76331349"
      },
      "source": [
        "# Create Dataset\n",
        "np.random.seed(0)\n",
        "X_xor = np.random.randn(200, 2)\n",
        "y_xor = np.logical_xor(X_xor[:, 0] > 0,\n",
        "                       X_xor[:, 1] > 0)\n",
        "y_xor = np.where(y_xor, 1, -1)\n",
        "\n",
        "fig = plt.figure(figsize=(10,10))\n",
        "plt.scatter(X_xor[y_xor == 1, 0],\n",
        "            X_xor[y_xor == 1, 1],\n",
        "            c='g', marker='x',\n",
        "            label='1')\n",
        "plt.scatter(X_xor[y_xor == -1, 0],\n",
        "            X_xor[y_xor == -1, 1],\n",
        "            c='r',\n",
        "            marker='s',\n",
        "            label='-1')\n",
        "\n",
        "plt.xlim([-3, 3])\n",
        "plt.ylim([-3, 3])\n",
        "plt.legend(loc='best')\n",
        "plt.tight_layout()\n",
        "plt.show()"
      ],
      "execution_count": null,
      "outputs": [
        {
          "output_type": "display_data",
          "data": {
            "image/png": "[encoded data removed]",
            "text/plain": [
              "<Figure size 720x720 with 1 Axes>"
            ]
          },
          "metadata": {
            "needs_background": "light"
          }
        }
      ]
    },
    {
      "cell_type": "code",
      "metadata": {
        "colab": {
          "base_uri": "https://localhost:8080/"
        },
        "id": "nlGWSGdZCK4O",
        "outputId": "f50ea7a0-de23-41ab-d949-d70f53c9fb0d"
      },
      "source": [
        "X_xor"
      ],
      "execution_count": null,
      "outputs": [
        {
          "output_type": "execute_result",
          "data": {
            "text/plain": [
              "array([[ 1.76405235,  0.40015721],\n",
              "       [ 0.97873798,  2.2408932 ],\n",
              "       [ 1.86755799, -0.97727788],\n",
              "       [ 0.95008842, -0.15135721],\n",
              "       [-0.10321885,  0.4105985 ],\n",
              "       [ 0.14404357,  1.45427351],\n",
              "       [ 0.76103773,  0.12167502],\n",
              "       [ 0.44386323,  0.33367433],\n",
              "       [ 1.49407907, -0.20515826],\n",
              "       [ 0.3130677 , -0.85409574],\n",
              "       [-2.55298982,  0.6536186 ],\n",
              "       [ 0.8644362 , -0.74216502],\n",
              "       [ 2.26975462, -1.45436567],\n",
              "       [ 0.04575852, -0.18718385],\n",
              "       [ 1.53277921,  1.46935877],\n",
              "       [ 0.15494743,  0.37816252],\n",
              "       [-0.88778575, -1.98079647],\n",
              "       [-0.34791215,  0.15634897],\n",
              "       [ 1.23029068,  1.20237985],\n",
              "       [-0.38732682, -0.30230275],\n",
              "       [-1.04855297, -1.42001794],\n",
              "       [-1.70627019,  1.9507754 ],\n",
              "       [-0.50965218, -0.4380743 ],\n",
              "       [-1.25279536,  0.77749036],\n",
              "       [-1.61389785, -0.21274028],\n",
              "       [-0.89546656,  0.3869025 ],\n",
              "       [-0.51080514, -1.18063218],\n",
              "       [-0.02818223,  0.42833187],\n",
              "       [ 0.06651722,  0.3024719 ],\n",
              "       [-0.63432209, -0.36274117],\n",
              "       [-0.67246045, -0.35955316],\n",
              "       [-0.81314628, -1.7262826 ],\n",
              "       [ 0.17742614, -0.40178094],\n",
              "       [-1.63019835,  0.46278226],\n",
              "       [-0.90729836,  0.0519454 ],\n",
              "       [ 0.72909056,  0.12898291],\n",
              "       [ 1.13940068, -1.23482582],\n",
              "       [ 0.40234164, -0.68481009],\n",
              "       [-0.87079715, -0.57884966],\n",
              "       [-0.31155253,  0.05616534],\n",
              "       [-1.16514984,  0.90082649],\n",
              "       [ 0.46566244, -1.53624369],\n",
              "       [ 1.48825219,  1.89588918],\n",
              "       [ 1.17877957, -0.17992484],\n",
              "       [-1.07075262,  1.05445173],\n",
              "       [-0.40317695,  1.22244507],\n",
              "       [ 0.20827498,  0.97663904],\n",
              "       [ 0.3563664 ,  0.70657317],\n",
              "       [ 0.01050002,  1.78587049],\n",
              "       [ 0.12691209,  0.40198936],\n",
              "       [ 1.8831507 , -1.34775906],\n",
              "       [-1.270485  ,  0.96939671],\n",
              "       [-1.17312341,  1.94362119],\n",
              "       [-0.41361898, -0.74745481],\n",
              "       [ 1.92294203,  1.48051479],\n",
              "       [ 1.86755896,  0.90604466],\n",
              "       [-0.86122569,  1.91006495],\n",
              "       [-0.26800337,  0.8024564 ],\n",
              "       [ 0.94725197, -0.15501009],\n",
              "       [ 0.61407937,  0.92220667],\n",
              "       [ 0.37642553, -1.09940079],\n",
              "       [ 0.29823817,  1.3263859 ],\n",
              "       [-0.69456786, -0.14963454],\n",
              "       [-0.43515355,  1.84926373],\n",
              "       [ 0.67229476,  0.40746184],\n",
              "       [-0.76991607,  0.53924919],\n",
              "       [-0.67433266,  0.03183056],\n",
              "       [-0.63584608,  0.67643329],\n",
              "       [ 0.57659082, -0.20829876],\n",
              "       [ 0.39600671, -1.09306151],\n",
              "       [-1.49125759,  0.4393917 ],\n",
              "       [ 0.1666735 ,  0.63503144],\n",
              "       [ 2.38314477,  0.94447949],\n",
              "       [-0.91282223,  1.11701629],\n",
              "       [-1.31590741, -0.4615846 ],\n",
              "       [-0.06824161,  1.71334272],\n",
              "       [-0.74475482, -0.82643854],\n",
              "       [-0.09845252, -0.66347829],\n",
              "       [ 1.12663592, -1.07993151],\n",
              "       [-1.14746865, -0.43782004],\n",
              "       [-0.49803245,  1.92953205],\n",
              "       [ 0.94942081,  0.08755124],\n",
              "       [-1.22543552,  0.84436298],\n",
              "       [-1.00021535, -1.5447711 ],\n",
              "       [ 1.18802979,  0.31694261],\n",
              "       [ 0.92085882,  0.31872765],\n",
              "       [ 0.85683061, -0.65102559],\n",
              "       [-1.03424284,  0.68159452],\n",
              "       [-0.80340966, -0.68954978],\n",
              "       [-0.4555325 ,  0.01747916],\n",
              "       [-0.35399391, -1.37495129],\n",
              "       [-0.6436184 , -2.22340315],\n",
              "       [ 0.62523145, -1.60205766],\n",
              "       [-1.10438334,  0.05216508],\n",
              "       [-0.739563  ,  1.5430146 ],\n",
              "       [-1.29285691,  0.26705087],\n",
              "       [-0.03928282, -1.1680935 ],\n",
              "       [ 0.52327666, -0.17154633],\n",
              "       [ 0.77179055,  0.82350415],\n",
              "       [ 2.16323595,  1.33652795],\n",
              "       [-0.36918184, -0.23937918],\n",
              "       [ 1.0996596 ,  0.65526373],\n",
              "       [ 0.64013153, -1.61695604],\n",
              "       [-0.02432612, -0.73803091],\n",
              "       [ 0.2799246 , -0.09815039],\n",
              "       [ 0.91017891,  0.31721822],\n",
              "       [ 0.78632796, -0.4664191 ],\n",
              "       [-0.94444626, -0.41004969],\n",
              "       [-0.01702041,  0.37915174],\n",
              "       [ 2.25930895, -0.04225715],\n",
              "       [-0.955945  , -0.34598178],\n",
              "       [-0.46359597,  0.48148147],\n",
              "       [-1.54079701,  0.06326199],\n",
              "       [ 0.15650654,  0.23218104],\n",
              "       [-0.59731607, -0.23792173],\n",
              "       [-1.42406091, -0.49331988],\n",
              "       [-0.54286148,  0.41605005],\n",
              "       [-1.15618243,  0.7811981 ],\n",
              "       [ 1.49448454, -2.06998503],\n",
              "       [ 0.42625873,  0.67690804],\n",
              "       [-0.63743703, -0.39727181],\n",
              "       [-0.13288058, -0.29779088],\n",
              "       [-0.30901297, -1.67600381],\n",
              "       [ 1.15233156,  1.07961859],\n",
              "       [-0.81336426, -1.46642433],\n",
              "       [ 0.52106488, -0.57578797],\n",
              "       [ 0.14195316, -0.31932842],\n",
              "       [ 0.69153875,  0.69474914],\n",
              "       [-0.72559738, -1.38336396],\n",
              "       [-1.5829384 ,  0.61037938],\n",
              "       [-1.18885926, -0.50681635],\n",
              "       [-0.59631404, -0.0525673 ],\n",
              "       [-1.93627981,  0.1887786 ],\n",
              "       [ 0.52389102,  0.08842209],\n",
              "       [-0.31088617,  0.09740017],\n",
              "       [ 0.39904635, -2.77259276],\n",
              "       [ 1.95591231,  0.39009332],\n",
              "       [-0.65240858, -0.39095338],\n",
              "       [ 0.49374178, -0.11610394],\n",
              "       [-2.03068447,  2.06449286],\n",
              "       [-0.11054066,  1.02017271],\n",
              "       [-0.69204985,  1.53637705],\n",
              "       [ 0.28634369,  0.60884383],\n",
              "       [-1.04525337,  1.21114529],\n",
              "       [ 0.68981816,  1.30184623],\n",
              "       [-0.62808756, -0.48102712],\n",
              "       [ 2.3039167 , -1.06001582],\n",
              "       [-0.1359497 ,  1.13689136],\n",
              "       [ 0.09772497,  0.58295368],\n",
              "       [-0.39944903,  0.37005589],\n",
              "       [-1.30652685,  1.65813068],\n",
              "       [-0.11816405, -0.6801782 ],\n",
              "       [ 0.66638308, -0.46071979],\n",
              "       [-1.33425847, -1.34671751],\n",
              "       [ 0.69377315, -0.15957344],\n",
              "       [-0.13370156,  1.07774381],\n",
              "       [-1.12682581, -0.73067775],\n",
              "       [-0.38487981,  0.09435159],\n",
              "       [-0.04217145, -0.28688719],\n",
              "       [-0.0616264 , -0.10730528],\n",
              "       [-0.71960439, -0.81299299],\n",
              "       [ 0.27451636, -0.89091508],\n",
              "       [-1.15735526, -0.31229225],\n",
              "       [-0.15766702,  2.2567235 ],\n",
              "       [-0.70470028,  0.94326072],\n",
              "       [ 0.74718833, -1.18894496],\n",
              "       [ 0.77325298, -1.18388064],\n",
              "       [-2.65917224,  0.60631952],\n",
              "       [-1.75589058,  0.45093446],\n",
              "       [-0.6840109 ,  1.6595508 ],\n",
              "       [ 1.0685094 , -0.4533858 ],\n",
              "       [-0.68783761, -1.2140774 ],\n",
              "       [-0.44092263, -0.2803555 ],\n",
              "       [-0.36469354,  0.15670386],\n",
              "       [ 0.5785215 ,  0.34965446],\n",
              "       [-0.76414392, -1.43779147],\n",
              "       [ 1.36453185, -0.68944918],\n",
              "       [-0.6522936 , -0.52118931],\n",
              "       [-1.84306955, -0.477974  ],\n",
              "       [-0.47965581,  0.6203583 ],\n",
              "       [ 0.69845715,  0.00377089],\n",
              "       [ 0.93184837,  0.33996498],\n",
              "       [-0.01568211,  0.16092817],\n",
              "       [-0.19065349, -0.39484951],\n",
              "       [-0.26773354, -1.12801133],\n",
              "       [ 0.28044171, -0.99312361],\n",
              "       [ 0.84163126, -0.24945858],\n",
              "       [ 0.04949498,  0.49383678],\n",
              "       [ 0.64331447, -1.57062341],\n",
              "       [-0.20690368,  0.88017891],\n",
              "       [-1.69810582,  0.38728048],\n",
              "       [-2.25556423, -1.02250684],\n",
              "       [ 0.03863055, -1.6567151 ],\n",
              "       [-0.98551074, -1.47183501],\n",
              "       [ 1.64813493,  0.16422776],\n",
              "       [ 0.56729028, -0.2226751 ],\n",
              "       [-0.35343175, -1.61647419],\n",
              "       [-0.29183736, -0.76149221],\n",
              "       [ 0.85792392,  1.14110187],\n",
              "       [ 1.46657872,  0.85255194]])"
            ]
          },
          "metadata": {},
          "execution_count": 4
        }
      ]
    },
    {
      "cell_type": "code",
      "metadata": {
        "colab": {
          "base_uri": "https://localhost:8080/"
        },
        "id": "QSVd3SdFCVUm",
        "outputId": "4a070f04-0ea0-48d6-bc67-dd53038f52bf"
      },
      "source": [
        "y_xor"
      ],
      "execution_count": null,
      "outputs": [
        {
          "output_type": "execute_result",
          "data": {
            "text/plain": [
              "array([-1, -1,  1,  1,  1, -1, -1, -1,  1,  1,  1,  1,  1,  1, -1, -1, -1,\n",
              "        1, -1, -1, -1,  1, -1,  1, -1,  1, -1,  1, -1, -1, -1, -1,  1,  1,\n",
              "        1, -1,  1,  1, -1,  1,  1,  1, -1,  1,  1,  1, -1, -1, -1, -1,  1,\n",
              "        1,  1, -1, -1, -1,  1,  1,  1, -1,  1, -1, -1,  1, -1,  1,  1,  1,\n",
              "        1,  1,  1, -1, -1,  1, -1,  1, -1, -1,  1, -1,  1, -1,  1, -1, -1,\n",
              "       -1,  1,  1, -1,  1, -1, -1,  1,  1,  1,  1, -1,  1, -1, -1, -1, -1,\n",
              "        1, -1,  1, -1,  1, -1,  1,  1, -1,  1,  1, -1, -1, -1,  1,  1,  1,\n",
              "       -1, -1, -1, -1, -1, -1,  1,  1, -1, -1,  1, -1, -1,  1, -1,  1,  1,\n",
              "       -1, -1,  1,  1,  1,  1, -1,  1, -1, -1,  1,  1, -1,  1,  1, -1,  1,\n",
              "       -1,  1,  1, -1,  1, -1, -1, -1,  1, -1,  1,  1,  1,  1,  1,  1,  1,\n",
              "        1, -1, -1,  1, -1, -1,  1, -1, -1,  1, -1, -1,  1, -1, -1,  1,  1,\n",
              "       -1,  1,  1,  1, -1,  1, -1, -1,  1, -1, -1, -1, -1])"
            ]
          },
          "metadata": {},
          "execution_count": 5
        }
      ]
    },
    {
      "cell_type": "markdown",
      "metadata": {
        "id": "XUUqeD0_e7q_"
      },
      "source": [
        "***Splitting into train and test*** "
      ]
    },
    {
      "cell_type": "code",
      "metadata": {
        "id": "_H0ltqfEvXYm"
      },
      "source": [
        "X_train, X_test, y_train, y_test = train_test_split(X_xor,y_xor, train_size=0.7,test_size=0.3,random_state=100)"
      ],
      "execution_count": null,
      "outputs": []
    },
    {
      "cell_type": "markdown",
      "metadata": {
        "id": "e-EErsjFfMVH"
      },
      "source": [
        "## **Linear Kernel**"
      ]
    },
    {
      "cell_type": "code",
      "metadata": {
        "colab": {
          "base_uri": "https://localhost:8080/",
          "height": 783
        },
        "id": "teLAt1Yh-1rv",
        "outputId": "b87d37fc-0c27-44e1-ee5a-4b2483436308"
      },
      "source": [
        "# Create a SVC classifier using a linear kernel\n",
        "svm = SVC(kernel='linear', C=1000, random_state=0)\n",
        "# Train the classifier\n",
        "\n",
        "svm.fit(X_train, y_train)\n",
        "\n",
        "# Visualize the decision boundaries\n",
        "fig = plt.figure(figsize=(10,10))\n",
        "plot_decision_regions(X_train, y_train, classifier=svm)\n",
        "plt.legend(loc='upper left')\n",
        "plt.tight_layout()\n",
        "plt.show()"
      ],
      "execution_count": null,
      "outputs": [
        {
          "output_type": "stream",
          "name": "stderr",
          "text": [
            "*c* argument looks like a single numeric RGB or RGBA sequence, which should be avoided as value-mapping will have precedence in case its length matches with *x* & *y*.  Please use the *color* keyword-argument or provide a 2-D array with a single row if you intend to specify the same RGB or RGBA value for all points.\n",
            "*c* argument looks like a single numeric RGB or RGBA sequence, which should be avoided as value-mapping will have precedence in case its length matches with *x* & *y*.  Please use the *color* keyword-argument or provide a 2-D array with a single row if you intend to specify the same RGB or RGBA value for all points.\n"
          ]
        },
        {
          "output_type": "display_data",
          "data": {
            "image/png": "[encoded data removed]",
            "text/plain": [
              "<Figure size 720x720 with 1 Axes>"
            ]
          },
          "metadata": {
            "needs_background": "light"
          }
        }
      ]
    },
    {
      "cell_type": "markdown",
      "metadata": {
        "id": "FOE5cG-6iXwe"
      },
      "source": [
        "**Scores for Linear Kernel**"
      ]
    },
    {
      "cell_type": "code",
      "metadata": {
        "colab": {
          "base_uri": "https://localhost:8080/"
        },
        "id": "w5GpS9uWtP1l",
        "outputId": "c79a10de-9721-488c-e0b1-033c2b625ff5"
      },
      "source": [
        "\n",
        "print(\"Train Accuracy is:\")\n",
        "predictedtrain = svm.predict(X_train)\n",
        "print(svm.score(X_train,y_train))\n",
        "print(\"Test Accuracy is:\")\n",
        "predicted = svm.predict(X_test)\n",
        "print(svm.score(X_test,y_test))"
      ],
      "execution_count": null,
      "outputs": [
        {
          "output_type": "stream",
          "name": "stdout",
          "text": [
            "Train Accuracy is:\n",
            "0.6785714285714286\n",
            "Test Accuracy is:\n",
            "0.6833333333333333\n"
          ]
        }
      ]
    },
    {
      "cell_type": "code",
      "metadata": {
        "colab": {
          "base_uri": "https://localhost:8080/"
        },
        "id": "U8Y3GS9QuYQW",
        "outputId": "f30d557a-fe67-436f-ea51-87a480db4ea0"
      },
      "source": [
        "print(metrics.confusion_matrix(y_test, predicted))\n",
        "print(metrics.classification_report(y_test, predicted))"
      ],
      "execution_count": null,
      "outputs": [
        {
          "output_type": "stream",
          "name": "stdout",
          "text": [
            "[[27  2]\n",
            " [17 14]]\n",
            "              precision    recall  f1-score   support\n",
            "\n",
            "          -1       0.61      0.93      0.74        29\n",
            "           1       0.88      0.45      0.60        31\n",
            "\n",
            "    accuracy                           0.68        60\n",
            "   macro avg       0.74      0.69      0.67        60\n",
            "weighted avg       0.75      0.68      0.67        60\n",
            "\n"
          ]
        }
      ]
    },
    {
      "cell_type": "markdown",
      "metadata": {
        "id": "wr0meUfaiqrW"
      },
      "source": [
        "# **Polynomial Kernel**"
      ]
    },
    {
      "cell_type": "code",
      "metadata": {
        "colab": {
          "base_uri": "https://localhost:8080/",
          "height": 783
        },
        "id": "PtMBHQlDkn0f",
        "outputId": "ccb5f7bb-5ee1-494d-9bab-4a6208ceeed1"
      },
      "source": [
        "# Create a SVC classifier using an RBF kernel\n",
        "svm = SVC(kernel= 'poly', random_state=0, gamma=1, C=1)\n",
        "# Train the classifier\n",
        "svm.fit(X_train, y_train)\n",
        "\n",
        "# Visualize the decision boundaries\n",
        "fig = plt.figure(figsize=(10,10))\n",
        "plot_decision_regions(X_train, y_train, classifier=svm)\n",
        "plt.legend(loc='upper left')\n",
        "plt.tight_layout()\n",
        "plt.show()"
      ],
      "execution_count": null,
      "outputs": [
        {
          "output_type": "stream",
          "name": "stderr",
          "text": [
            "*c* argument looks like a single numeric RGB or RGBA sequence, which should be avoided as value-mapping will have precedence in case its length matches with *x* & *y*.  Please use the *color* keyword-argument or provide a 2-D array with a single row if you intend to specify the same RGB or RGBA value for all points.\n",
            "*c* argument looks like a single numeric RGB or RGBA sequence, which should be avoided as value-mapping will have precedence in case its length matches with *x* & *y*.  Please use the *color* keyword-argument or provide a 2-D array with a single row if you intend to specify the same RGB or RGBA value for all points.\n"
          ]
        },
        {
          "output_type": "display_data",
          "data": {
            "image/png": "[encoded data removed]",
            "text/plain": [
              "<Figure size 720x720 with 1 Axes>"
            ]
          },
          "metadata": {
            "needs_background": "light"
          }
        }
      ]
    },
    {
      "cell_type": "code",
      "metadata": {
        "colab": {
          "base_uri": "https://localhost:8080/"
        },
        "id": "eOxWXwstMG5n",
        "outputId": "eab9f348-5077-41d1-d55a-2ca7aef41f19"
      },
      "source": [
        "print(\"Train Accuracy is:\")\n",
        "predictedtrain = svm.predict(X_train)\n",
        "print(svm.score(X_train,y_train))\n",
        "print(\"Test Accuracy is:\")\n",
        "predicted = svm.predict(X_test)\n",
        "print(svm.score(X_test,y_test))"
      ],
      "execution_count": null,
      "outputs": [
        {
          "output_type": "stream",
          "name": "stdout",
          "text": [
            "Train Accuracy is:\n",
            "0.5428571428571428\n",
            "Test Accuracy is:\n",
            "0.5666666666666667\n"
          ]
        }
      ]
    },
    {
      "cell_type": "code",
      "metadata": {
        "colab": {
          "base_uri": "https://localhost:8080/"
        },
        "id": "koU3SAORMPFc",
        "outputId": "bb65b782-7f32-4407-e90a-5e7b94d413e0"
      },
      "source": [
        "print(metrics.confusion_matrix(y_test, predicted))\n",
        "print(metrics.classification_report(y_test, predicted))"
      ],
      "execution_count": null,
      "outputs": [
        {
          "output_type": "stream",
          "name": "stdout",
          "text": [
            "[[ 5 24]\n",
            " [ 2 29]]\n",
            "              precision    recall  f1-score   support\n",
            "\n",
            "          -1       0.71      0.17      0.28        29\n",
            "           1       0.55      0.94      0.69        31\n",
            "\n",
            "    accuracy                           0.57        60\n",
            "   macro avg       0.63      0.55      0.48        60\n",
            "weighted avg       0.63      0.57      0.49        60\n",
            "\n"
          ]
        }
      ]
    },
    {
      "cell_type": "code",
      "metadata": {
        "colab": {
          "base_uri": "https://localhost:8080/",
          "height": 783
        },
        "id": "uTbAyNJBMUBF",
        "outputId": "282b5f8b-6798-4bcb-e668-d5959d4af096"
      },
      "source": [
        "# Create a SVC classifier using an RBF kernel\n",
        "svm = SVC(kernel= 'poly', random_state=0, gamma=1/10000, C=1)\n",
        "# Train the classifier\n",
        "svm.fit(X_train, y_train)\n",
        "\n",
        "# Visualize the decision boundaries\n",
        "fig = plt.figure(figsize=(10,10))\n",
        "plot_decision_regions(X_train, y_train, classifier=svm)\n",
        "plt.legend(loc='upper left')\n",
        "plt.tight_layout()\n",
        "plt.show()"
      ],
      "execution_count": null,
      "outputs": [
        {
          "output_type": "stream",
          "name": "stderr",
          "text": [
            "*c* argument looks like a single numeric RGB or RGBA sequence, which should be avoided as value-mapping will have precedence in case its length matches with *x* & *y*.  Please use the *color* keyword-argument or provide a 2-D array with a single row if you intend to specify the same RGB or RGBA value for all points.\n",
            "*c* argument looks like a single numeric RGB or RGBA sequence, which should be avoided as value-mapping will have precedence in case its length matches with *x* & *y*.  Please use the *color* keyword-argument or provide a 2-D array with a single row if you intend to specify the same RGB or RGBA value for all points.\n"
          ]
        },
        {
          "output_type": "display_data",
          "data": {
            "image/png": "[encoded data removed]",
            "text/plain": [
              "<Figure size 720x720 with 1 Axes>"
            ]
          },
          "metadata": {
            "needs_background": "light"
          }
        }
      ]
    },
    {
      "cell_type": "code",
      "metadata": {
        "colab": {
          "base_uri": "https://localhost:8080/"
        },
        "id": "wZw7ZLdjMZO1",
        "outputId": "dc9a51e2-9480-4658-b2f3-3aacf4d8cead"
      },
      "source": [
        "print(\"Train Accuracy is:\")\n",
        "predictedtrain = svm.predict(X_train)\n",
        "print(svm.score(X_train,y_train))\n",
        "print(\"Test Accuracy is:\")\n",
        "predicted = svm.predict(X_test)\n",
        "print(svm.score(X_test,y_test))"
      ],
      "execution_count": null,
      "outputs": [
        {
          "output_type": "stream",
          "name": "stdout",
          "text": [
            "Train Accuracy is:\n",
            "0.5285714285714286\n",
            "Test Accuracy is:\n",
            "0.5333333333333333\n"
          ]
        }
      ]
    },
    {
      "cell_type": "code",
      "metadata": {
        "colab": {
          "base_uri": "https://localhost:8080/"
        },
        "id": "iPwfYZCsMZSf",
        "outputId": "75442ab9-b3a8-4949-ffd1-9ec7d6b6e107"
      },
      "source": [
        "print(metrics.confusion_matrix(y_test, predicted))\n",
        "print(metrics.classification_report(y_test, predicted))"
      ],
      "execution_count": null,
      "outputs": [
        {
          "output_type": "stream",
          "name": "stdout",
          "text": [
            "[[ 2 27]\n",
            " [ 1 30]]\n",
            "              precision    recall  f1-score   support\n",
            "\n",
            "          -1       0.67      0.07      0.12        29\n",
            "           1       0.53      0.97      0.68        31\n",
            "\n",
            "    accuracy                           0.53        60\n",
            "   macro avg       0.60      0.52      0.40        60\n",
            "weighted avg       0.59      0.53      0.41        60\n",
            "\n"
          ]
        }
      ]
    },
    {
      "cell_type": "code",
      "metadata": {
        "id": "IqaYZRmPPlXy",
        "colab": {
          "base_uri": "https://localhost:8080/",
          "height": 783
        },
        "outputId": "29028676-97ad-446d-d6ab-2e2e92e9d595"
      },
      "source": [
        "# Create a SVC classifier using an RBF kernel\n",
        "svm = SVC(kernel= 'poly', random_state=0, gamma=0.01, C=1000000000)\n",
        "# Train the classifier\n",
        "svm.fit(X_train, y_train)\n",
        "\n",
        "# Visualize the decision boundaries\n",
        "fig = plt.figure(figsize=(10,10))\n",
        "plot_decision_regions(X_train, y_train, classifier=svm)\n",
        "plt.legend(loc='upper left')\n",
        "plt.tight_layout()\n",
        "plt.show()"
      ],
      "execution_count": null,
      "outputs": [
        {
          "output_type": "stream",
          "name": "stderr",
          "text": [
            "*c* argument looks like a single numeric RGB or RGBA sequence, which should be avoided as value-mapping will have precedence in case its length matches with *x* & *y*.  Please use the *color* keyword-argument or provide a 2-D array with a single row if you intend to specify the same RGB or RGBA value for all points.\n",
            "*c* argument looks like a single numeric RGB or RGBA sequence, which should be avoided as value-mapping will have precedence in case its length matches with *x* & *y*.  Please use the *color* keyword-argument or provide a 2-D array with a single row if you intend to specify the same RGB or RGBA value for all points.\n"
          ]
        },
        {
          "output_type": "display_data",
          "data": {
            "image/png": "[encoded data removed]",
            "text/plain": [
              "<Figure size 720x720 with 1 Axes>"
            ]
          },
          "metadata": {
            "needs_background": "light"
          }
        }
      ]
    },
    {
      "cell_type": "code",
      "metadata": {
        "id": "oxxy1UztQjVq",
        "colab": {
          "base_uri": "https://localhost:8080/"
        },
        "outputId": "25acc811-892f-48dd-8e23-c6aa87657bfa"
      },
      "source": [
        "print(\"Train Accuracy is:\")\n",
        "predictedtrain = svm.predict(X_train)\n",
        "print(svm.score(X_train,y_train))\n",
        "print(\"Test Accuracy is:\")\n",
        "predicted = svm.predict(X_test)\n",
        "print(svm.score(X_test,y_test))"
      ],
      "execution_count": null,
      "outputs": [
        {
          "output_type": "stream",
          "name": "stdout",
          "text": [
            "Train Accuracy is:\n",
            "0.5428571428571428\n",
            "Test Accuracy is:\n",
            "0.5666666666666667\n"
          ]
        }
      ]
    },
    {
      "cell_type": "code",
      "metadata": {
        "colab": {
          "base_uri": "https://localhost:8080/"
        },
        "id": "PT9O_TjtQngU",
        "outputId": "6ba41cc3-c894-44f5-f27d-9cddf922f9a6"
      },
      "source": [
        "print(metrics.confusion_matrix(y_test, predicted))\n",
        "print(metrics.classification_report(y_test, predicted))"
      ],
      "execution_count": null,
      "outputs": [
        {
          "output_type": "stream",
          "name": "stdout",
          "text": [
            "[[ 5 24]\n",
            " [ 2 29]]\n",
            "              precision    recall  f1-score   support\n",
            "\n",
            "          -1       0.71      0.17      0.28        29\n",
            "           1       0.55      0.94      0.69        31\n",
            "\n",
            "    accuracy                           0.57        60\n",
            "   macro avg       0.63      0.55      0.48        60\n",
            "weighted avg       0.63      0.57      0.49        60\n",
            "\n"
          ]
        }
      ]
    },
    {
      "cell_type": "code",
      "metadata": {
        "id": "ZeX3BAvBHliY"
      },
      "source": [
        "from sklearn.model_selection import KFold\n",
        "from sklearn.model_selection import cross_val_score\n",
        "from sklearn.model_selection import GridSearchCV"
      ],
      "execution_count": null,
      "outputs": []
    },
    {
      "cell_type": "markdown",
      "metadata": {
        "id": "isSTAYeIG9On"
      },
      "source": [
        "**Grid Search **"
      ]
    },
    {
      "cell_type": "code",
      "metadata": {
        "colab": {
          "base_uri": "https://localhost:8080/"
        },
        "id": "k8KWQqq7G6_C",
        "outputId": "c05dbf14-d919-442d-b3ac-4f032e3fc800"
      },
      "source": [
        "# creating a KFold object with 5 splits \n",
        "folds = KFold(n_splits = 10, shuffle = True, random_state = 4)\n",
        "\n",
        "# specify range of hyperparameters\n",
        "# Set the parameters by cross-validation\n",
        "hyper_params = [ {'gamma': [1e-2, 1e-3, 1e-4],\n",
        "                     'C': [1, 10, 100, 1000,5000,10000]}]\n",
        "\n",
        "\n",
        "# specify model\n",
        "model = SVC(kernel=\"poly\")\n",
        "\n",
        "# set up GridSearchCV()\n",
        "model_cv = GridSearchCV(estimator = model, \n",
        "                        param_grid = hyper_params, \n",
        "                        scoring= 'accuracy', \n",
        "                        cv = folds, \n",
        "                        verbose = 1,\n",
        "                        return_train_score=True)      \n",
        "\n",
        "# fit the model\n",
        "model_cv.fit(X_train, y_train)"
      ],
      "execution_count": null,
      "outputs": [
        {
          "output_type": "stream",
          "name": "stdout",
          "text": [
            "Fitting 10 folds for each of 18 candidates, totalling 180 fits\n"
          ]
        },
        {
          "output_type": "stream",
          "name": "stderr",
          "text": [
            "[Parallel(n_jobs=1)]: Using backend SequentialBackend with 1 concurrent workers.\n",
            "[Parallel(n_jobs=1)]: Done 180 out of 180 | elapsed:    0.4s finished\n"
          ]
        },
        {
          "output_type": "execute_result",
          "data": {
            "text/plain": [
              "GridSearchCV(cv=KFold(n_splits=10, random_state=4, shuffle=True),\n",
              "             error_score=nan,\n",
              "             estimator=SVC(C=1.0, break_ties=False, cache_size=200,\n",
              "                           class_weight=None, coef0=0.0,\n",
              "                           decision_function_shape='ovr', degree=3,\n",
              "                           gamma='scale', kernel='poly', max_iter=-1,\n",
              "                           probability=False, random_state=None, shrinking=True,\n",
              "                           tol=0.001, verbose=False),\n",
              "             iid='deprecated', n_jobs=None,\n",
              "             param_grid=[{'C': [1, 10, 100, 1000, 5000, 10000],\n",
              "                          'gamma': [0.01, 0.001, 0.0001]}],\n",
              "             pre_dispatch='2*n_jobs', refit=True, return_train_score=True,\n",
              "             scoring='accuracy', verbose=1)"
            ]
          },
          "metadata": {},
          "execution_count": 30
        }
      ]
    },
    {
      "cell_type": "code",
      "metadata": {
        "colab": {
          "base_uri": "https://localhost:8080/"
        },
        "id": "ncjlb1jOHvdf",
        "outputId": "578f5142-6b91-4a13-c453-f331ad7e906f"
      },
      "source": [
        "model_cv.best_params_"
      ],
      "execution_count": null,
      "outputs": [
        {
          "output_type": "execute_result",
          "data": {
            "text/plain": [
              "{'C': 10000, 'gamma': 0.01}"
            ]
          },
          "metadata": {},
          "execution_count": 31
        }
      ]
    },
    {
      "cell_type": "code",
      "metadata": {
        "colab": {
          "base_uri": "https://localhost:8080/"
        },
        "id": "86kn_nwGH2q3",
        "outputId": "db028517-87a9-4834-ec46-ad3feb058adf"
      },
      "source": [
        "# Create a SVC classifier using an RBF kernel\n",
        "svm = SVC(kernel= 'poly', random_state=0, gamma=0.01, C=1)\n",
        "# Train the classifier\n",
        "svm.fit(X_train, y_train)"
      ],
      "execution_count": null,
      "outputs": [
        {
          "output_type": "execute_result",
          "data": {
            "text/plain": [
              "SVC(C=1, break_ties=False, cache_size=200, class_weight=None, coef0=0.0,\n",
              "    decision_function_shape='ovr', degree=3, gamma=0.01, kernel='poly',\n",
              "    max_iter=-1, probability=False, random_state=0, shrinking=True, tol=0.001,\n",
              "    verbose=False)"
            ]
          },
          "metadata": {},
          "execution_count": 32
        }
      ]
    },
    {
      "cell_type": "code",
      "metadata": {
        "colab": {
          "base_uri": "https://localhost:8080/"
        },
        "id": "oMjOdVkwIARY",
        "outputId": "d5f78ead-e9a1-4353-ec48-451fc5501446"
      },
      "source": [
        "print(\"Train Accuracy is:\")\n",
        "predictedtrain = svm.predict(X_train)\n",
        "print(svm.score(X_train,y_train))\n",
        "print(\"Test Accuracy is:\")\n",
        "predicted = svm.predict(X_test)\n",
        "print(svm.score(X_test,y_test))"
      ],
      "execution_count": null,
      "outputs": [
        {
          "output_type": "stream",
          "name": "stdout",
          "text": [
            "Train Accuracy is:\n",
            "0.5285714285714286\n",
            "Test Accuracy is:\n",
            "0.5333333333333333\n"
          ]
        }
      ]
    },
    {
      "cell_type": "markdown",
      "metadata": {
        "id": "BcI3S-F9RjxD"
      },
      "source": [
        "## **Sigmoid Kernel**"
      ]
    },
    {
      "cell_type": "code",
      "metadata": {
        "colab": {
          "base_uri": "https://localhost:8080/",
          "height": 783
        },
        "id": "jnFqgwwVRhwF",
        "outputId": "24c18d5a-e212-4c03-86ac-81934da24b6f"
      },
      "source": [
        "# Create a SVC classifier using an RBF kernel\n",
        "svm = SVC(kernel= 'sigmoid', random_state=0, gamma=0.001, C=10000)\n",
        "# Train the classifier\n",
        "svm.fit(X_train, y_train)\n",
        "\n",
        "# Visualize the decision boundaries\n",
        "fig = plt.figure(figsize=(10,10))\n",
        "plot_decision_regions(X_train, y_train, classifier=svm)\n",
        "plt.legend(loc='upper left')\n",
        "plt.tight_layout()\n",
        "plt.show()"
      ],
      "execution_count": null,
      "outputs": [
        {
          "output_type": "stream",
          "name": "stderr",
          "text": [
            "*c* argument looks like a single numeric RGB or RGBA sequence, which should be avoided as value-mapping will have precedence in case its length matches with *x* & *y*.  Please use the *color* keyword-argument or provide a 2-D array with a single row if you intend to specify the same RGB or RGBA value for all points.\n",
            "*c* argument looks like a single numeric RGB or RGBA sequence, which should be avoided as value-mapping will have precedence in case its length matches with *x* & *y*.  Please use the *color* keyword-argument or provide a 2-D array with a single row if you intend to specify the same RGB or RGBA value for all points.\n"
          ]
        },
        {
          "output_type": "display_data",
          "data": {
            "image/png": "[encoded data removed]",
            "text/plain": [
              "<Figure size 720x720 with 1 Axes>"
            ]
          },
          "metadata": {
            "needs_background": "light"
          }
        }
      ]
    },
    {
      "cell_type": "code",
      "metadata": {
        "id": "8FRUAyVBv6QU"
      },
      "source": [
        "#plot_decision_regions(X_test, y_test, classifier=svm)\n",
        "#plt.legend(loc='upper left')\n",
        "#plt.tight_layout()\n",
        "#plt.show()"
      ],
      "execution_count": null,
      "outputs": []
    },
    {
      "cell_type": "code",
      "metadata": {
        "colab": {
          "base_uri": "https://localhost:8080/"
        },
        "id": "dOR63JbPvFvO",
        "outputId": "bb16a76e-1879-4400-adaa-f02563b36630"
      },
      "source": [
        "print(\"Train Accuracy is:\")\n",
        "predictedtrain = svm.predict(X_train)\n",
        "print(svm.score(X_train,y_train))\n",
        "print(\"Test Accuracy is:\")\n",
        "predicted = svm.predict(X_test)\n",
        "print(svm.score(X_test,y_test))"
      ],
      "execution_count": null,
      "outputs": [
        {
          "output_type": "stream",
          "name": "stdout",
          "text": [
            "Train Accuracy is:\n",
            "0.6785714285714286\n",
            "Test Accuracy is:\n",
            "0.6833333333333333\n"
          ]
        }
      ]
    },
    {
      "cell_type": "code",
      "metadata": {
        "colab": {
          "base_uri": "https://localhost:8080/"
        },
        "id": "-PemAI7HvIBF",
        "outputId": "24d89b13-e887-4ede-c4e0-04c5cfaadba8"
      },
      "source": [
        "print(metrics.confusion_matrix(y_test, predicted))\n",
        "print(metrics.classification_report(y_test, predicted))"
      ],
      "execution_count": null,
      "outputs": [
        {
          "output_type": "stream",
          "name": "stdout",
          "text": [
            "[[27  2]\n",
            " [17 14]]\n",
            "              precision    recall  f1-score   support\n",
            "\n",
            "          -1       0.61      0.93      0.74        29\n",
            "           1       0.88      0.45      0.60        31\n",
            "\n",
            "    accuracy                           0.68        60\n",
            "   macro avg       0.74      0.69      0.67        60\n",
            "weighted avg       0.75      0.68      0.67        60\n",
            "\n"
          ]
        }
      ]
    },
    {
      "cell_type": "code",
      "metadata": {
        "colab": {
          "base_uri": "https://localhost:8080/",
          "height": 783
        },
        "id": "_rdZb71LSUJL",
        "outputId": "e6cd3ec4-bccc-4405-dacf-4cfcc4a30de1"
      },
      "source": [
        "# Create a SVC classifier using an RBF kernel\n",
        "svm = SVC(kernel= 'sigmoid', random_state=0, gamma=100000, C=1)\n",
        "# Train the classifier\n",
        "svm.fit(X_train, y_train)\n",
        "\n",
        "# Visualize the decision boundaries\n",
        "fig = plt.figure(figsize=(10,10))\n",
        "plot_decision_regions(X_train, y_train, classifier=svm)\n",
        "plt.legend(loc='upper left')\n",
        "plt.tight_layout()\n",
        "plt.show()"
      ],
      "execution_count": null,
      "outputs": [
        {
          "output_type": "stream",
          "name": "stderr",
          "text": [
            "*c* argument looks like a single numeric RGB or RGBA sequence, which should be avoided as value-mapping will have precedence in case its length matches with *x* & *y*.  Please use the *color* keyword-argument or provide a 2-D array with a single row if you intend to specify the same RGB or RGBA value for all points.\n",
            "*c* argument looks like a single numeric RGB or RGBA sequence, which should be avoided as value-mapping will have precedence in case its length matches with *x* & *y*.  Please use the *color* keyword-argument or provide a 2-D array with a single row if you intend to specify the same RGB or RGBA value for all points.\n"
          ]
        },
        {
          "output_type": "display_data",
          "data": {
            "image/png": "[encoded data removed]",
            "text/plain": [
              "<Figure size 720x720 with 1 Axes>"
            ]
          },
          "metadata": {
            "needs_background": "light"
          }
        }
      ]
    },
    {
      "cell_type": "code",
      "metadata": {
        "colab": {
          "base_uri": "https://localhost:8080/"
        },
        "id": "eJilxIHlSc9d",
        "outputId": "6199eea6-7a7c-4639-86f2-1b8a380a5ab3"
      },
      "source": [
        "print(\"Train Accuracy is:\")\n",
        "predictedtrain = svm.predict(X_train)\n",
        "print(svm.score(X_train,y_train))\n",
        "print(\"Test Accuracy is:\")\n",
        "predicted = svm.predict(X_test)\n",
        "print(svm.score(X_test,y_test))"
      ],
      "execution_count": null,
      "outputs": [
        {
          "output_type": "stream",
          "name": "stdout",
          "text": [
            "Train Accuracy is:\n",
            "0.5642857142857143\n",
            "Test Accuracy is:\n",
            "0.6166666666666667\n"
          ]
        }
      ]
    },
    {
      "cell_type": "code",
      "metadata": {
        "colab": {
          "base_uri": "https://localhost:8080/"
        },
        "id": "zkRVrlnNSdDu",
        "outputId": "a122803e-b95b-4731-b1d9-f8e51a3976e8"
      },
      "source": [
        "print(metrics.confusion_matrix(y_test, predicted))\n",
        "print(metrics.classification_report(y_test, predicted))"
      ],
      "execution_count": null,
      "outputs": [
        {
          "output_type": "stream",
          "name": "stdout",
          "text": [
            "[[21  8]\n",
            " [15 16]]\n",
            "              precision    recall  f1-score   support\n",
            "\n",
            "          -1       0.58      0.72      0.65        29\n",
            "           1       0.67      0.52      0.58        31\n",
            "\n",
            "    accuracy                           0.62        60\n",
            "   macro avg       0.62      0.62      0.61        60\n",
            "weighted avg       0.63      0.62      0.61        60\n",
            "\n"
          ]
        }
      ]
    },
    {
      "cell_type": "code",
      "metadata": {
        "colab": {
          "base_uri": "https://localhost:8080/",
          "height": 783
        },
        "id": "tHMP70kkT4UU",
        "outputId": "1de533fc-ee50-4d2f-d90a-9c734a571b5b"
      },
      "source": [
        "# Create a SVC classifier using an RBF kernel\n",
        "svm = SVC(kernel= 'sigmoid', random_state=0, gamma=0.01, C=1000)\n",
        "# Train the classifier\n",
        "svm.fit(X_train, y_train)\n",
        "\n",
        "# Visualize the decision boundaries\n",
        "fig = plt.figure(figsize=(10,10))\n",
        "plot_decision_regions(X_train, y_train, classifier=svm)\n",
        "plt.legend(loc='upper left')\n",
        "plt.tight_layout()\n",
        "plt.show()"
      ],
      "execution_count": null,
      "outputs": [
        {
          "output_type": "stream",
          "name": "stderr",
          "text": [
            "*c* argument looks like a single numeric RGB or RGBA sequence, which should be avoided as value-mapping will have precedence in case its length matches with *x* & *y*.  Please use the *color* keyword-argument or provide a 2-D array with a single row if you intend to specify the same RGB or RGBA value for all points.\n",
            "*c* argument looks like a single numeric RGB or RGBA sequence, which should be avoided as value-mapping will have precedence in case its length matches with *x* & *y*.  Please use the *color* keyword-argument or provide a 2-D array with a single row if you intend to specify the same RGB or RGBA value for all points.\n"
          ]
        },
        {
          "output_type": "display_data",
          "data": {
            "image/png": "[encoded data removed]",
            "text/plain": [
              "<Figure size 720x720 with 1 Axes>"
            ]
          },
          "metadata": {
            "needs_background": "light"
          }
        }
      ]
    },
    {
      "cell_type": "code",
      "metadata": {
        "colab": {
          "base_uri": "https://localhost:8080/"
        },
        "id": "d_nSyCvXPf41",
        "outputId": "0915fe8f-068a-4c0a-e57d-d553b7e355c0"
      },
      "source": [
        "print(\"Train Accuracy is:\")\n",
        "predictedtrain = svm.predict(X_train)\n",
        "print(svm.score(X_train,y_train))\n",
        "print(\"Test Accuracy is:\")\n",
        "predicted = svm.predict(X_test)\n",
        "print(svm.score(X_test,y_test))"
      ],
      "execution_count": null,
      "outputs": [
        {
          "output_type": "stream",
          "name": "stdout",
          "text": [
            "Train Accuracy is:\n",
            "0.6714285714285714\n",
            "Test Accuracy is:\n",
            "0.6833333333333333\n"
          ]
        }
      ]
    },
    {
      "cell_type": "code",
      "metadata": {
        "id": "mhrvqsF1WdlX",
        "colab": {
          "base_uri": "https://localhost:8080/"
        },
        "outputId": "8c155693-f49d-4494-e7aa-38a3f7f46621"
      },
      "source": [
        "print(metrics.confusion_matrix(y_test, predicted))\n",
        "print(metrics.classification_report(y_test, predicted))"
      ],
      "execution_count": null,
      "outputs": [
        {
          "output_type": "stream",
          "name": "stdout",
          "text": [
            "[[27  2]\n",
            " [17 14]]\n",
            "              precision    recall  f1-score   support\n",
            "\n",
            "          -1       0.61      0.93      0.74        29\n",
            "           1       0.88      0.45      0.60        31\n",
            "\n",
            "    accuracy                           0.68        60\n",
            "   macro avg       0.74      0.69      0.67        60\n",
            "weighted avg       0.75      0.68      0.67        60\n",
            "\n"
          ]
        }
      ]
    },
    {
      "cell_type": "markdown",
      "metadata": {
        "id": "gCj7zZkaQb7p"
      },
      "source": [
        "Grid Search"
      ]
    },
    {
      "cell_type": "code",
      "metadata": {
        "colab": {
          "base_uri": "https://localhost:8080/"
        },
        "id": "_0fGURpDQe3Q",
        "outputId": "532b19b2-c19a-497d-f1b0-466cbb2d4f3b"
      },
      "source": [
        "# creating a KFold object with 5 splits \n",
        "folds = KFold(n_splits = 10, shuffle = True, random_state = 4)\n",
        "\n",
        "# specify range of hyperparameters\n",
        "# Set the parameters by cross-validation\n",
        "hyper_params = [ {'gamma': [0.01, 0.001, 0.0001],\n",
        "                     'C': [1, 10, 100, 1000,2000]}]\n",
        "\n",
        "\n",
        "# specify model\n",
        "model = SVC(kernel=\"sigmoid\")\n",
        "\n",
        "# set up GridSearchCV()\n",
        "model_cv = GridSearchCV(estimator = model, \n",
        "                        param_grid = hyper_params, \n",
        "                        scoring= 'accuracy', \n",
        "                        cv = folds, \n",
        "                        verbose = 1,\n",
        "                        return_train_score=True)      \n",
        "\n",
        "# fit the model\n",
        "model_cv.fit(X_train, y_train)"
      ],
      "execution_count": null,
      "outputs": [
        {
          "output_type": "stream",
          "name": "stdout",
          "text": [
            "Fitting 10 folds for each of 15 candidates, totalling 150 fits\n"
          ]
        },
        {
          "output_type": "stream",
          "name": "stderr",
          "text": [
            "[Parallel(n_jobs=1)]: Using backend SequentialBackend with 1 concurrent workers.\n",
            "[Parallel(n_jobs=1)]: Done 150 out of 150 | elapsed:    0.4s finished\n"
          ]
        },
        {
          "output_type": "execute_result",
          "data": {
            "text/plain": [
              "GridSearchCV(cv=KFold(n_splits=10, random_state=4, shuffle=True),\n",
              "             error_score=nan,\n",
              "             estimator=SVC(C=1.0, break_ties=False, cache_size=200,\n",
              "                           class_weight=None, coef0=0.0,\n",
              "                           decision_function_shape='ovr', degree=3,\n",
              "                           gamma='scale', kernel='sigmoid', max_iter=-1,\n",
              "                           probability=False, random_state=None, shrinking=True,\n",
              "                           tol=0.001, verbose=False),\n",
              "             iid='deprecated', n_jobs=None,\n",
              "             param_grid=[{'C': [1, 10, 100, 1000, 2000],\n",
              "                          'gamma': [0.01, 0.001, 1]}],\n",
              "             pre_dispatch='2*n_jobs', refit=True, return_train_score=True,\n",
              "             scoring='accuracy', verbose=1)"
            ]
          },
          "metadata": {},
          "execution_count": 85
        }
      ]
    },
    {
      "cell_type": "code",
      "metadata": {
        "colab": {
          "base_uri": "https://localhost:8080/"
        },
        "id": "kLTfe-R7QyZ9",
        "outputId": "72285362-a4c6-48fd-9566-0828746c185f"
      },
      "source": [
        "model_cv.best_params_"
      ],
      "execution_count": null,
      "outputs": [
        {
          "output_type": "execute_result",
          "data": {
            "text/plain": [
              "{'C': 100, 'gamma': 1}"
            ]
          },
          "metadata": {},
          "execution_count": 86
        }
      ]
    },
    {
      "cell_type": "code",
      "metadata": {
        "colab": {
          "base_uri": "https://localhost:8080/"
        },
        "id": "cxyHiH1cQyZ9",
        "outputId": "86a14523-d84d-45bb-eedc-2a69ce825f9f"
      },
      "source": [
        "# Create a SVC classifier using an RBF kernel\n",
        "svm = SVC(kernel= 'sigmoid', random_state=0, gamma=0.01, C=100)\n",
        "# Train the classifier\n",
        "svm.fit(X_train, y_train)"
      ],
      "execution_count": null,
      "outputs": [
        {
          "output_type": "execute_result",
          "data": {
            "text/plain": [
              "SVC(C=100, break_ties=False, cache_size=200, class_weight=None, coef0=0.0,\n",
              "    decision_function_shape='ovr', degree=3, gamma=0.01, kernel='sigmoid',\n",
              "    max_iter=-1, probability=False, random_state=0, shrinking=True, tol=0.001,\n",
              "    verbose=False)"
            ]
          },
          "metadata": {},
          "execution_count": 89
        }
      ]
    },
    {
      "cell_type": "code",
      "metadata": {
        "colab": {
          "base_uri": "https://localhost:8080/"
        },
        "id": "14WNlEfYQyZ9",
        "outputId": "a701fb16-5e69-4114-d74f-9071eb4ccf69"
      },
      "source": [
        "print(\"Train Accuracy is:\")\n",
        "predictedtrain = svm.predict(X_train)\n",
        "print(svm.score(X_train,y_train))\n",
        "print(\"Test Accuracy is:\")\n",
        "predicted = svm.predict(X_test)\n",
        "print(svm.score(X_test,y_test))"
      ],
      "execution_count": null,
      "outputs": [
        {
          "output_type": "stream",
          "name": "stdout",
          "text": [
            "Train Accuracy is:\n",
            "0.6214285714285714\n",
            "Test Accuracy is:\n",
            "0.6333333333333333\n"
          ]
        }
      ]
    },
    {
      "cell_type": "markdown",
      "metadata": {
        "id": "N7JXFEIvT47q"
      },
      "source": [
        "## **RADIAL BASIS FUNCTION(RBF) KERNEL**"
      ]
    },
    {
      "cell_type": "code",
      "metadata": {
        "colab": {
          "base_uri": "https://localhost:8080/",
          "height": 783
        },
        "id": "FJ3zj1MxUP40",
        "outputId": "aa436464-712a-4cfb-af0f-9cb17f5a006f"
      },
      "source": [
        "# Create a SVC classifier using an RBF kernel\n",
        "svm = SVC(kernel='rbf', random_state=0, gamma=1/10000, C=1)\n",
        "# Train the classifier\n",
        "svm.fit(X_train, y_train)\n",
        "\n",
        "# Visualize the decision boundaries\n",
        "fig = plt.figure(figsize=(10,10))\n",
        "plot_decision_regions(X_train, y_train, classifier=svm)\n",
        "plt.legend(loc='upper left')\n",
        "plt.tight_layout()\n",
        "plt.show()"
      ],
      "execution_count": null,
      "outputs": [
        {
          "output_type": "stream",
          "name": "stderr",
          "text": [
            "*c* argument looks like a single numeric RGB or RGBA sequence, which should be avoided as value-mapping will have precedence in case its length matches with *x* & *y*.  Please use the *color* keyword-argument or provide a 2-D array with a single row if you intend to specify the same RGB or RGBA value for all points.\n",
            "*c* argument looks like a single numeric RGB or RGBA sequence, which should be avoided as value-mapping will have precedence in case its length matches with *x* & *y*.  Please use the *color* keyword-argument or provide a 2-D array with a single row if you intend to specify the same RGB or RGBA value for all points.\n"
          ]
        },
        {
          "output_type": "display_data",
          "data": {
            "image/png": "[encoded data removed]",
            "text/plain": [
              "<Figure size 720x720 with 1 Axes>"
            ]
          },
          "metadata": {
            "needs_background": "light"
          }
        }
      ]
    },
    {
      "cell_type": "code",
      "metadata": {
        "colab": {
          "base_uri": "https://localhost:8080/"
        },
        "id": "9F1YjjAvUP8l",
        "outputId": "4f082fd5-06a1-471d-89b3-14a7400879d4"
      },
      "source": [
        "print(\"Train Accuracy is:\")\n",
        "predictedtrain = svm.predict(X_train)\n",
        "print(svm.score(X_train,y_train))\n",
        "print(\"Test Accuracy is:\")\n",
        "predicted = svm.predict(X_test)\n",
        "print(svm.score(X_test,y_test))"
      ],
      "execution_count": null,
      "outputs": [
        {
          "output_type": "stream",
          "name": "stdout",
          "text": [
            "Train Accuracy is:\n",
            "0.6142857142857143\n",
            "Test Accuracy is:\n",
            "0.55\n"
          ]
        }
      ]
    },
    {
      "cell_type": "code",
      "metadata": {
        "colab": {
          "base_uri": "https://localhost:8080/"
        },
        "id": "62btaoeQU-pI",
        "outputId": "e378ad01-8558-4cfc-adf5-52514a1aa764"
      },
      "source": [
        "print(metrics.confusion_matrix(y_test, predicted))\n",
        "print(metrics.classification_report(y_test, predicted))"
      ],
      "execution_count": null,
      "outputs": [
        {
          "output_type": "stream",
          "name": "stdout",
          "text": [
            "[[17 12]\n",
            " [15 16]]\n",
            "              precision    recall  f1-score   support\n",
            "\n",
            "          -1       0.53      0.59      0.56        29\n",
            "           1       0.57      0.52      0.54        31\n",
            "\n",
            "    accuracy                           0.55        60\n",
            "   macro avg       0.55      0.55      0.55        60\n",
            "weighted avg       0.55      0.55      0.55        60\n",
            "\n"
          ]
        }
      ]
    },
    {
      "cell_type": "code",
      "metadata": {
        "colab": {
          "base_uri": "https://localhost:8080/",
          "height": 783
        },
        "id": "oMHxY43tUkTy",
        "outputId": "6d95bb2d-3f6e-4047-d457-9c0581e12ba3"
      },
      "source": [
        "# Create a SVC classifier using an RBF kernel\n",
        "svm = SVC(kernel='rbf', random_state=0, gamma=1, C=1)\n",
        "# Train the classifier\n",
        "svm.fit(X_train, y_train)\n",
        "\n",
        "# Visualize the decision boundaries\n",
        "fig = plt.figure(figsize=(10,10))\n",
        "plot_decision_regions(X_train, y_train, classifier=svm)\n",
        "plt.legend(loc='upper left')\n",
        "plt.tight_layout()\n",
        "plt.show()"
      ],
      "execution_count": null,
      "outputs": [
        {
          "output_type": "stream",
          "name": "stderr",
          "text": [
            "*c* argument looks like a single numeric RGB or RGBA sequence, which should be avoided as value-mapping will have precedence in case its length matches with *x* & *y*.  Please use the *color* keyword-argument or provide a 2-D array with a single row if you intend to specify the same RGB or RGBA value for all points.\n",
            "*c* argument looks like a single numeric RGB or RGBA sequence, which should be avoided as value-mapping will have precedence in case its length matches with *x* & *y*.  Please use the *color* keyword-argument or provide a 2-D array with a single row if you intend to specify the same RGB or RGBA value for all points.\n"
          ]
        },
        {
          "output_type": "display_data",
          "data": {
            "image/png": "[encoded data removed]",
            "text/plain": [
              "<Figure size 720x720 with 1 Axes>"
            ]
          },
          "metadata": {
            "needs_background": "light"
          }
        }
      ]
    },
    {
      "cell_type": "code",
      "metadata": {
        "colab": {
          "base_uri": "https://localhost:8080/"
        },
        "id": "czH0MSRwVKRK",
        "outputId": "c5a954df-9643-491d-d15e-39406ebdf179"
      },
      "source": [
        "print(\"Train Accuracy is:\")\n",
        "predictedtrain = svm.predict(X_train)\n",
        "print(svm.score(X_train,y_train))\n",
        "print(\"Test Accuracy is:\")\n",
        "predicted = svm.predict(X_test)\n",
        "print(svm.score(X_test,y_test))"
      ],
      "execution_count": null,
      "outputs": [
        {
          "output_type": "stream",
          "name": "stdout",
          "text": [
            "Train Accuracy is:\n",
            "0.9785714285714285\n",
            "Test Accuracy is:\n",
            "0.9166666666666666\n"
          ]
        }
      ]
    },
    {
      "cell_type": "code",
      "metadata": {
        "colab": {
          "base_uri": "https://localhost:8080/"
        },
        "id": "fe2jbUW4VQfl",
        "outputId": "48dfe5ed-a451-4458-8393-b12c276224da"
      },
      "source": [
        "print(metrics.confusion_matrix(y_test, predicted))\n",
        "print(metrics.classification_report(y_test, predicted))"
      ],
      "execution_count": null,
      "outputs": [
        {
          "output_type": "stream",
          "name": "stdout",
          "text": [
            "[[29  0]\n",
            " [ 5 26]]\n",
            "              precision    recall  f1-score   support\n",
            "\n",
            "          -1       0.85      1.00      0.92        29\n",
            "           1       1.00      0.84      0.91        31\n",
            "\n",
            "    accuracy                           0.92        60\n",
            "   macro avg       0.93      0.92      0.92        60\n",
            "weighted avg       0.93      0.92      0.92        60\n",
            "\n"
          ]
        }
      ]
    },
    {
      "cell_type": "code",
      "metadata": {
        "colab": {
          "base_uri": "https://localhost:8080/",
          "height": 783
        },
        "id": "kayan7FzVwn0",
        "outputId": "ca925d9b-e1f3-4fbe-d973-59e2e3776429"
      },
      "source": [
        "# Create a SVC classifier using an RBF kernel\n",
        "svm = SVC(kernel='rbf', random_state=0, gamma=10, C=1)\n",
        "# Train the classifier\n",
        "svm.fit(X_train, y_train)\n",
        "\n",
        "# Visualize the decision boundaries\n",
        "fig = plt.figure(figsize=(10,10))\n",
        "plot_decision_regions(X_train, y_train, classifier=svm)\n",
        "plt.legend(loc='upper left')\n",
        "plt.tight_layout()\n",
        "plt.show()"
      ],
      "execution_count": null,
      "outputs": [
        {
          "output_type": "stream",
          "name": "stderr",
          "text": [
            "*c* argument looks like a single numeric RGB or RGBA sequence, which should be avoided as value-mapping will have precedence in case its length matches with *x* & *y*.  Please use the *color* keyword-argument or provide a 2-D array with a single row if you intend to specify the same RGB or RGBA value for all points.\n",
            "*c* argument looks like a single numeric RGB or RGBA sequence, which should be avoided as value-mapping will have precedence in case its length matches with *x* & *y*.  Please use the *color* keyword-argument or provide a 2-D array with a single row if you intend to specify the same RGB or RGBA value for all points.\n"
          ]
        },
        {
          "output_type": "display_data",
          "data": {
            "image/png": "[encoded data removed]",
            "text/plain": [
              "<Figure size 720x720 with 1 Axes>"
            ]
          },
          "metadata": {
            "needs_background": "light"
          }
        }
      ]
    },
    {
      "cell_type": "code",
      "metadata": {
        "colab": {
          "base_uri": "https://localhost:8080/"
        },
        "id": "JrHKo-p49fSN",
        "outputId": "60676813-fddc-4414-8103-63e92b4c0f98"
      },
      "source": [
        "print(\"Train Accuracy is:\")\n",
        "predictedtrain = svm.predict(X_train)\n",
        "print(svm.score(X_train,y_train))\n",
        "print(\"Test Accuracy is:\")\n",
        "predicted = svm.predict(X_test)\n",
        "print(svm.score(X_test,y_test))"
      ],
      "execution_count": null,
      "outputs": [
        {
          "output_type": "stream",
          "name": "stdout",
          "text": [
            "Train Accuracy is:\n",
            "0.9857142857142858\n",
            "Test Accuracy is:\n",
            "0.9166666666666666\n"
          ]
        }
      ]
    },
    {
      "cell_type": "code",
      "metadata": {
        "colab": {
          "base_uri": "https://localhost:8080/"
        },
        "id": "_95tLFo99fVq",
        "outputId": "140e7bc7-a628-4922-c9fb-35d60fd94926"
      },
      "source": [
        "print(metrics.confusion_matrix(y_test, predicted))\n",
        "print(metrics.classification_report(y_test, predicted))"
      ],
      "execution_count": null,
      "outputs": [
        {
          "output_type": "stream",
          "name": "stdout",
          "text": [
            "[[28  1]\n",
            " [ 4 27]]\n",
            "              precision    recall  f1-score   support\n",
            "\n",
            "          -1       0.88      0.97      0.92        29\n",
            "           1       0.96      0.87      0.92        31\n",
            "\n",
            "    accuracy                           0.92        60\n",
            "   macro avg       0.92      0.92      0.92        60\n",
            "weighted avg       0.92      0.92      0.92        60\n",
            "\n"
          ]
        }
      ]
    },
    {
      "cell_type": "markdown",
      "metadata": {
        "id": "3JUdO7szFiH8"
      },
      "source": [
        "The gamma parameter defines how far the influence of a single training example reaches, with low values meaning ‘far’ and high values meaning ‘close’. In other words, with low gamma, points far away from plausible seperation line are considered in calculation for the seperation line. Where as high gamma means the points close to plausible line are considered in calculation. This is very clearly visible in the graphs"
      ]
    },
    {
      "cell_type": "code",
      "metadata": {
        "colab": {
          "base_uri": "https://localhost:8080/",
          "height": 783
        },
        "id": "CsCVLps39fYE",
        "outputId": "ed31a50c-d5be-4373-8022-dbdb300aa0b3"
      },
      "source": [
        "# Create a SVC classifier using an RBF kernel\n",
        "svm = SVC(kernel='rbf', random_state=0, gamma=10000, C=1)\n",
        "# Train the classifier\n",
        "svm.fit(X_train, y_train)\n",
        "\n",
        "# Visualize the decision boundaries\n",
        "fig = plt.figure(figsize=(10,10))\n",
        "plot_decision_regions(X_train, y_train, classifier=svm)\n",
        "plt.legend(loc='upper left')\n",
        "plt.tight_layout()\n",
        "plt.show()"
      ],
      "execution_count": null,
      "outputs": [
        {
          "output_type": "stream",
          "name": "stderr",
          "text": [
            "*c* argument looks like a single numeric RGB or RGBA sequence, which should be avoided as value-mapping will have precedence in case its length matches with *x* & *y*.  Please use the *color* keyword-argument or provide a 2-D array with a single row if you intend to specify the same RGB or RGBA value for all points.\n",
            "*c* argument looks like a single numeric RGB or RGBA sequence, which should be avoided as value-mapping will have precedence in case its length matches with *x* & *y*.  Please use the *color* keyword-argument or provide a 2-D array with a single row if you intend to specify the same RGB or RGBA value for all points.\n"
          ]
        },
        {
          "output_type": "display_data",
          "data": {
            "image/png": "[encoded data removed]",
            "text/plain": [
              "<Figure size 720x720 with 1 Axes>"
            ]
          },
          "metadata": {
            "needs_background": "light"
          }
        }
      ]
    },
    {
      "cell_type": "code",
      "metadata": {
        "colab": {
          "base_uri": "https://localhost:8080/"
        },
        "id": "nSq9S9jM9fbQ",
        "outputId": "3a227f22-f3bb-454f-c6e4-3c12f3e2fd02"
      },
      "source": [
        "print(\"Train Accuracy is:\")\n",
        "predictedtrain = svm.predict(X_train)\n",
        "print(svm.score(X_train,y_train))\n",
        "print(\"Test Accuracy is:\")\n",
        "predicted = svm.predict(X_test)\n",
        "print(svm.score(X_test,y_test))"
      ],
      "execution_count": null,
      "outputs": [
        {
          "output_type": "stream",
          "name": "stdout",
          "text": [
            "Train Accuracy is:\n",
            "1.0\n",
            "Test Accuracy is:\n",
            "0.55\n"
          ]
        }
      ]
    },
    {
      "cell_type": "code",
      "metadata": {
        "colab": {
          "base_uri": "https://localhost:8080/"
        },
        "id": "Urd6KdR29fea",
        "outputId": "1eb6fa28-014d-413e-9e85-c762103b4d49"
      },
      "source": [
        "print(metrics.confusion_matrix(y_test, predicted))\n",
        "print(metrics.classification_report(y_test, predicted))"
      ],
      "execution_count": null,
      "outputs": [
        {
          "output_type": "stream",
          "name": "stdout",
          "text": [
            "[[29  0]\n",
            " [27  4]]\n",
            "              precision    recall  f1-score   support\n",
            "\n",
            "          -1       0.52      1.00      0.68        29\n",
            "           1       1.00      0.13      0.23        31\n",
            "\n",
            "    accuracy                           0.55        60\n",
            "   macro avg       0.76      0.56      0.46        60\n",
            "weighted avg       0.77      0.55      0.45        60\n",
            "\n"
          ]
        }
      ]
    },
    {
      "cell_type": "code",
      "metadata": {
        "id": "J2fFjmoH9fhb"
      },
      "source": [
        ""
      ],
      "execution_count": null,
      "outputs": []
    },
    {
      "cell_type": "markdown",
      "metadata": {
        "id": "EB1iMl8JVxv8"
      },
      "source": [
        "# **upto**"
      ]
    },
    {
      "cell_type": "code",
      "metadata": {
        "colab": {
          "base_uri": "https://localhost:8080/",
          "height": 816,
          "referenced_widgets": [
            "1997fe7ac0be4607b664d53d302514aa",
            "a936d03b28a1443381ae27547dc3b2c5",
            "656082ca09d34f8f870578e785a48b51",
            "ce854497a84d458e849bc58ba7987e8d",
            "07ca2203928d4106afe213877ec8e995",
            "db0135d9baba4e5ebb01525f46382fdf",
            "1dabcee992c14fe38ece1fa874ae6ab2"
          ]
        },
        "id": "EDMm6rTnF-6I",
        "outputId": "d39baf4c-e268-46c0-dc76-a3b737b8498a"
      },
      "source": [
        "from ipywidgets import interact, interactive, fixed, interact_manual\n",
        "import ipywidgets as widgets\n",
        "\n",
        "@interact(x=[1, 10, 1000, 10000, 100000])\n",
        "def svc(x=1):\n",
        "  # Create a SVC classifier using an RBF kernel\n",
        "  svm = SVC(kernel='rbf', random_state=0, gamma=.01, C=x)\n",
        "  # Train the classifier\n",
        "  svm.fit(X_train, y_train)\n",
        "\n",
        "  # Visualize the decision boundaries\n",
        "  fig = plt.figure(figsize=(10,10))\n",
        "  plot_decision_regions(X_xor, y_xor, classifier=svm)\n",
        "  plt.legend(loc='upper left')\n",
        "  plt.tight_layout()\n",
        "  plt.show()"
      ],
      "execution_count": null,
      "outputs": [
        {
          "output_type": "display_data",
          "data": {
            "application/vnd.jupyter.widget-view+json": {
              "model_id": "1997fe7ac0be4607b664d53d302514aa",
              "version_minor": 0,
              "version_major": 2
            },
            "text/plain": [
              "interactive(children=(Dropdown(description='x', options=(1, 10, 1000, 10000, 100000), value=1), Output()), _do…"
            ]
          },
          "metadata": {}
        }
      ]
    },
    {
      "cell_type": "code",
      "metadata": {
        "colab": {
          "base_uri": "https://localhost:8080/",
          "height": 783
        },
        "id": "Vh-2yM4kGFQr",
        "outputId": "c3c1e3c6-5ae1-458f-cd9b-6aef389fd722"
      },
      "source": [
        "# Create a SVC classifier using an RBF kernel\n",
        "svm = SVC(kernel='rbf', random_state=0, gamma=.01, C=10)\n",
        "# Train the classifier\n",
        "svm.fit(X_train, y_train)\n",
        "\n",
        "# Visualize the decision boundaries\n",
        "fig = plt.figure(figsize=(10,10))\n",
        "plot_decision_regions(X_train, y_train, classifier=svm)\n",
        "plt.legend(loc='upper left')\n",
        "plt.tight_layout()\n",
        "plt.show()"
      ],
      "execution_count": null,
      "outputs": [
        {
          "output_type": "stream",
          "name": "stderr",
          "text": [
            "*c* argument looks like a single numeric RGB or RGBA sequence, which should be avoided as value-mapping will have precedence in case its length matches with *x* & *y*.  Please use the *color* keyword-argument or provide a 2-D array with a single row if you intend to specify the same RGB or RGBA value for all points.\n",
            "*c* argument looks like a single numeric RGB or RGBA sequence, which should be avoided as value-mapping will have precedence in case its length matches with *x* & *y*.  Please use the *color* keyword-argument or provide a 2-D array with a single row if you intend to specify the same RGB or RGBA value for all points.\n"
          ]
        },
        {
          "output_type": "display_data",
          "data": {
            "image/png": "[encoded data removed]",
            "text/plain": [
              "<Figure size 720x720 with 1 Axes>"
            ]
          },
          "metadata": {
            "needs_background": "light"
          }
        }
      ]
    },
    {
      "cell_type": "code",
      "metadata": {
        "colab": {
          "base_uri": "https://localhost:8080/"
        },
        "id": "4I-XjyGA_OoV",
        "outputId": "9af07314-7cb6-4a09-a067-a9c45ca0078a"
      },
      "source": [
        "print(\"Train Accuracy is:\")\n",
        "predictedtrain = svm.predict(X_train)\n",
        "print(svm.score(X_train,y_train))\n",
        "print(\"Test Accuracy is:\")\n",
        "predicted = svm.predict(X_test)\n",
        "print(svm.score(X_test,y_test))"
      ],
      "execution_count": null,
      "outputs": [
        {
          "output_type": "stream",
          "name": "stdout",
          "text": [
            "Train Accuracy is:\n",
            "0.6857142857142857\n",
            "Test Accuracy is:\n",
            "0.6666666666666666\n"
          ]
        }
      ]
    },
    {
      "cell_type": "code",
      "metadata": {
        "colab": {
          "base_uri": "https://localhost:8080/"
        },
        "id": "6Q9bY2gk_Tk9",
        "outputId": "fe00e851-3865-4c85-e5ae-0f2b82622b4a"
      },
      "source": [
        "print(metrics.confusion_matrix(y_test, predicted))\n",
        "print(metrics.classification_report(y_test, predicted))"
      ],
      "execution_count": null,
      "outputs": [
        {
          "output_type": "stream",
          "name": "stdout",
          "text": [
            "[[29  0]\n",
            " [20 11]]\n",
            "              precision    recall  f1-score   support\n",
            "\n",
            "          -1       0.59      1.00      0.74        29\n",
            "           1       1.00      0.35      0.52        31\n",
            "\n",
            "    accuracy                           0.67        60\n",
            "   macro avg       0.80      0.68      0.63        60\n",
            "weighted avg       0.80      0.67      0.63        60\n",
            "\n"
          ]
        }
      ]
    },
    {
      "cell_type": "code",
      "metadata": {
        "colab": {
          "base_uri": "https://localhost:8080/",
          "height": 783
        },
        "id": "c-1qC2zpGO2m",
        "outputId": "920bec83-d9a2-489e-b1c5-bd948361da95"
      },
      "source": [
        "# Create a SVC classifier using an RBF kernel\n",
        "svm = SVC(kernel='rbf', random_state=0, gamma=.01, C=1000)\n",
        "# Train the classifier\n",
        "svm.fit(X_train, y_train)\n",
        "\n",
        "# Visualize the decision boundaries\n",
        "fig = plt.figure(figsize=(10,10))\n",
        "plot_decision_regions(X_train, y_train, classifier=svm)\n",
        "plt.legend(loc='upper left')\n",
        "plt.tight_layout()\n",
        "plt.show()"
      ],
      "execution_count": null,
      "outputs": [
        {
          "output_type": "stream",
          "name": "stderr",
          "text": [
            "*c* argument looks like a single numeric RGB or RGBA sequence, which should be avoided as value-mapping will have precedence in case its length matches with *x* & *y*.  Please use the *color* keyword-argument or provide a 2-D array with a single row if you intend to specify the same RGB or RGBA value for all points.\n",
            "*c* argument looks like a single numeric RGB or RGBA sequence, which should be avoided as value-mapping will have precedence in case its length matches with *x* & *y*.  Please use the *color* keyword-argument or provide a 2-D array with a single row if you intend to specify the same RGB or RGBA value for all points.\n"
          ]
        },
        {
          "output_type": "display_data",
          "data": {
            "image/png": "[encoded data removed]",
            "text/plain": [
              "<Figure size 720x720 with 1 Axes>"
            ]
          },
          "metadata": {
            "needs_background": "light"
          }
        }
      ]
    },
    {
      "cell_type": "code",
      "metadata": {
        "colab": {
          "base_uri": "https://localhost:8080/"
        },
        "id": "za_7tClQ_liE",
        "outputId": "80b270be-7a9d-44db-80a9-767f512d54fe"
      },
      "source": [
        "print(\"Train Accuracy is:\")\n",
        "predictedtrain = svm.predict(X_train)\n",
        "print(svm.score(X_train,y_train))\n",
        "print(\"Test Accuracy is:\")\n",
        "predicted = svm.predict(X_test)\n",
        "print(svm.score(X_test,y_test))"
      ],
      "execution_count": null,
      "outputs": [
        {
          "output_type": "stream",
          "name": "stdout",
          "text": [
            "Train Accuracy is:\n",
            "0.9214285714285714\n",
            "Test Accuracy is:\n",
            "0.9\n"
          ]
        }
      ]
    },
    {
      "cell_type": "code",
      "metadata": {
        "colab": {
          "base_uri": "https://localhost:8080/"
        },
        "id": "YzevFZrk_bC0",
        "outputId": "a1cc670b-d9f9-4ee1-dcef-d0fac51d95a6"
      },
      "source": [
        "print(metrics.confusion_matrix(y_test, predicted))\n",
        "print(metrics.classification_report(y_test, predicted))"
      ],
      "execution_count": null,
      "outputs": [
        {
          "output_type": "stream",
          "name": "stdout",
          "text": [
            "[[29  0]\n",
            " [ 6 25]]\n",
            "              precision    recall  f1-score   support\n",
            "\n",
            "          -1       0.83      1.00      0.91        29\n",
            "           1       1.00      0.81      0.89        31\n",
            "\n",
            "    accuracy                           0.90        60\n",
            "   macro avg       0.91      0.90      0.90        60\n",
            "weighted avg       0.92      0.90      0.90        60\n",
            "\n"
          ]
        }
      ]
    },
    {
      "cell_type": "code",
      "metadata": {
        "colab": {
          "base_uri": "https://localhost:8080/",
          "height": 783
        },
        "id": "g4vTnhv6EM21",
        "outputId": "e624b390-dfb4-4ffa-b4c1-34dfc5a856e6"
      },
      "source": [
        "# Create a SVC classifier using an RBF kernel\n",
        "svm = SVC(kernel='rbf', random_state=0, gamma=.01, C=2000)\n",
        "# Train the classifier\n",
        "svm.fit(X_train, y_train)\n",
        "\n",
        "# Visualize the decision boundaries\n",
        "fig = plt.figure(figsize=(10,10))\n",
        "plot_decision_regions(X_train, y_train, classifier=svm)\n",
        "plt.legend(loc='upper left')\n",
        "plt.tight_layout()\n",
        "plt.show()"
      ],
      "execution_count": null,
      "outputs": [
        {
          "output_type": "stream",
          "name": "stderr",
          "text": [
            "*c* argument looks like a single numeric RGB or RGBA sequence, which should be avoided as value-mapping will have precedence in case its length matches with *x* & *y*.  Please use the *color* keyword-argument or provide a 2-D array with a single row if you intend to specify the same RGB or RGBA value for all points.\n",
            "*c* argument looks like a single numeric RGB or RGBA sequence, which should be avoided as value-mapping will have precedence in case its length matches with *x* & *y*.  Please use the *color* keyword-argument or provide a 2-D array with a single row if you intend to specify the same RGB or RGBA value for all points.\n"
          ]
        },
        {
          "output_type": "display_data",
          "data": {
            "image/png": "[encoded data removed]",
            "text/plain": [
              "<Figure size 720x720 with 1 Axes>"
            ]
          },
          "metadata": {
            "needs_background": "light"
          }
        }
      ]
    },
    {
      "cell_type": "code",
      "metadata": {
        "colab": {
          "base_uri": "https://localhost:8080/"
        },
        "id": "R9Bo0xoSESyW",
        "outputId": "d94c6d1a-fe15-4fdb-aa16-546955a32adf"
      },
      "source": [
        "print(\"Train Accuracy is:\")\n",
        "predictedtrain = svm.predict(X_train)\n",
        "print(svm.score(X_train,y_train))\n",
        "print(\"Test Accuracy is:\")\n",
        "predicted = svm.predict(X_test)\n",
        "print(svm.score(X_test,y_test))"
      ],
      "execution_count": null,
      "outputs": [
        {
          "output_type": "stream",
          "name": "stdout",
          "text": [
            "Train Accuracy is:\n",
            "0.9857142857142858\n",
            "Test Accuracy is:\n",
            "0.9666666666666667\n"
          ]
        }
      ]
    },
    {
      "cell_type": "code",
      "metadata": {
        "colab": {
          "base_uri": "https://localhost:8080/"
        },
        "id": "Od3wH4pfhumH",
        "outputId": "6fccc22b-7f31-434c-cb87-1f2e4865c5d5"
      },
      "source": [
        "print(metrics.confusion_matrix(y_test, predicted))\n",
        "print(metrics.classification_report(y_test, predicted))"
      ],
      "execution_count": null,
      "outputs": [
        {
          "output_type": "stream",
          "name": "stdout",
          "text": [
            "[[28  1]\n",
            " [ 1 30]]\n",
            "              precision    recall  f1-score   support\n",
            "\n",
            "          -1       0.97      0.97      0.97        29\n",
            "           1       0.97      0.97      0.97        31\n",
            "\n",
            "    accuracy                           0.97        60\n",
            "   macro avg       0.97      0.97      0.97        60\n",
            "weighted avg       0.97      0.97      0.97        60\n",
            "\n"
          ]
        }
      ]
    },
    {
      "cell_type": "code",
      "metadata": {
        "colab": {
          "base_uri": "https://localhost:8080/",
          "height": 783
        },
        "id": "kySyFTDHGUJH",
        "outputId": "7ec558b4-eedf-468e-d5e6-2e05ee56ddee"
      },
      "source": [
        "# Create a SVC classifier using an RBF kernel\n",
        "svm = SVC(kernel='rbf', random_state=0, gamma=.01, C=10000)\n",
        "# Train the classifier\n",
        "svm.fit(X_train, y_train)\n",
        "\n",
        "# Visualize the decision boundaries\n",
        "fig = plt.figure(figsize=(10,10))\n",
        "plot_decision_regions(X_train, y_train, classifier=svm)\n",
        "plt.legend(loc='upper left')\n",
        "plt.tight_layout()\n",
        "plt.show()"
      ],
      "execution_count": null,
      "outputs": [
        {
          "output_type": "stream",
          "name": "stderr",
          "text": [
            "*c* argument looks like a single numeric RGB or RGBA sequence, which should be avoided as value-mapping will have precedence in case its length matches with *x* & *y*.  Please use the *color* keyword-argument or provide a 2-D array with a single row if you intend to specify the same RGB or RGBA value for all points.\n",
            "*c* argument looks like a single numeric RGB or RGBA sequence, which should be avoided as value-mapping will have precedence in case its length matches with *x* & *y*.  Please use the *color* keyword-argument or provide a 2-D array with a single row if you intend to specify the same RGB or RGBA value for all points.\n"
          ]
        },
        {
          "output_type": "display_data",
          "data": {
            "image/png": "[encoded data removed]",
            "text/plain": [
              "<Figure size 720x720 with 1 Axes>"
            ]
          },
          "metadata": {
            "needs_background": "light"
          }
        }
      ]
    },
    {
      "cell_type": "code",
      "metadata": {
        "colab": {
          "base_uri": "https://localhost:8080/"
        },
        "id": "QN9D5OPP_3rD",
        "outputId": "7038c52a-179a-4ff0-d282-fa0c74c80896"
      },
      "source": [
        "print(\"Train Accuracy is:\")\n",
        "predictedtrain = svm.predict(X_train)\n",
        "print(svm.score(X_train,y_train))\n",
        "print(\"Test Accuracy is:\")\n",
        "predicted = svm.predict(X_test)\n",
        "print(svm.score(X_test,y_test))"
      ],
      "execution_count": null,
      "outputs": [
        {
          "output_type": "stream",
          "name": "stdout",
          "text": [
            "Train Accuracy is:\n",
            "0.9857142857142858\n",
            "Test Accuracy is:\n",
            "0.9166666666666666\n"
          ]
        }
      ]
    },
    {
      "cell_type": "code",
      "metadata": {
        "colab": {
          "base_uri": "https://localhost:8080/"
        },
        "id": "vSf--_mI_64r",
        "outputId": "2a67c331-bf20-47de-c1ad-ed7bfd4661e5"
      },
      "source": [
        "print(metrics.confusion_matrix(y_test, predicted))\n",
        "print(metrics.classification_report(y_test, predicted))"
      ],
      "execution_count": null,
      "outputs": [
        {
          "output_type": "stream",
          "name": "stdout",
          "text": [
            "[[29  0]\n",
            " [ 5 26]]\n",
            "              precision    recall  f1-score   support\n",
            "\n",
            "          -1       0.85      1.00      0.92        29\n",
            "           1       1.00      0.84      0.91        31\n",
            "\n",
            "    accuracy                           0.92        60\n",
            "   macro avg       0.93      0.92      0.92        60\n",
            "weighted avg       0.93      0.92      0.92        60\n",
            "\n"
          ]
        }
      ]
    },
    {
      "cell_type": "markdown",
      "metadata": {
        "id": "XOnMU4-LEv5T"
      },
      "source": [
        "We saw that after furthur increasing C the test accuracy reduced. The reason being that C is penalty parameter the larger C means we want to class larger number of train points correctly and hence we will have a smaller margin which leads to misclassification of newly seen data since the margin was low. Which can be basically called as overfitting."
      ]
    },
    {
      "cell_type": "code",
      "metadata": {
        "colab": {
          "base_uri": "https://localhost:8080/",
          "height": 783
        },
        "id": "51BIM8QJGbQo",
        "outputId": "da48de30-bdb9-42cb-b4cd-cb9562f09032"
      },
      "source": [
        "# Create a SVC classifier using an RBF kernel\n",
        "svm = SVC(kernel='rbf', random_state=0, gamma=.01, C=100000)\n",
        "# Train the classifier\n",
        "svm.fit(X_train, y_train)\n",
        "\n",
        "# Visualize the decision boundaries\n",
        "fig = plt.figure(figsize=(10,10))\n",
        "plot_decision_regions(X_train, y_train, classifier=svm)\n",
        "plt.legend(loc='upper left')\n",
        "plt.tight_layout()\n",
        "plt.show()"
      ],
      "execution_count": null,
      "outputs": [
        {
          "output_type": "stream",
          "name": "stderr",
          "text": [
            "*c* argument looks like a single numeric RGB or RGBA sequence, which should be avoided as value-mapping will have precedence in case its length matches with *x* & *y*.  Please use the *color* keyword-argument or provide a 2-D array with a single row if you intend to specify the same RGB or RGBA value for all points.\n",
            "*c* argument looks like a single numeric RGB or RGBA sequence, which should be avoided as value-mapping will have precedence in case its length matches with *x* & *y*.  Please use the *color* keyword-argument or provide a 2-D array with a single row if you intend to specify the same RGB or RGBA value for all points.\n"
          ]
        },
        {
          "output_type": "display_data",
          "data": {
            "image/png": "[encoded data removed]",
            "text/plain": [
              "<Figure size 720x720 with 1 Axes>"
            ]
          },
          "metadata": {
            "needs_background": "light"
          }
        }
      ]
    },
    {
      "cell_type": "code",
      "metadata": {
        "colab": {
          "base_uri": "https://localhost:8080/"
        },
        "id": "d6BKLbJb4lv7",
        "outputId": "891504a9-d34f-4e8b-9799-da51da6e781a"
      },
      "source": [
        "print(\"Train Accuracy is:\")\n",
        "predictedtrain = svm.predict(X_train)\n",
        "print(svm.score(X_train,y_train))\n",
        "print(\"Test Accuracy is:\")\n",
        "predicted = svm.predict(X_test)\n",
        "print(svm.score(X_test,y_test))"
      ],
      "execution_count": null,
      "outputs": [
        {
          "output_type": "stream",
          "name": "stdout",
          "text": [
            "Train Accuracy is:\n",
            "0.9857142857142858\n",
            "Test Accuracy is:\n",
            "0.9166666666666666\n"
          ]
        }
      ]
    },
    {
      "cell_type": "code",
      "metadata": {
        "id": "idE4dB-eGfX-",
        "colab": {
          "base_uri": "https://localhost:8080/"
        },
        "outputId": "0523a698-df23-4c7f-c7d6-2e9b5124e001"
      },
      "source": [
        "print(metrics.confusion_matrix(y_test, predicted))\n",
        "print(metrics.classification_report(y_test, predicted))"
      ],
      "execution_count": null,
      "outputs": [
        {
          "output_type": "stream",
          "name": "stdout",
          "text": [
            "[[29  0]\n",
            " [ 5 26]]\n",
            "              precision    recall  f1-score   support\n",
            "\n",
            "          -1       0.85      1.00      0.92        29\n",
            "           1       1.00      0.84      0.91        31\n",
            "\n",
            "    accuracy                           0.92        60\n",
            "   macro avg       0.93      0.92      0.92        60\n",
            "weighted avg       0.93      0.92      0.92        60\n",
            "\n"
          ]
        }
      ]
    },
    {
      "cell_type": "markdown",
      "metadata": {
        "id": "B_gQxosdS5x6"
      },
      "source": [
        "Grid Search"
      ]
    },
    {
      "cell_type": "code",
      "metadata": {
        "id": "dMJkIhKYAOTJ",
        "colab": {
          "base_uri": "https://localhost:8080/"
        },
        "outputId": "a329a291-3cc5-48c0-c470-d6ddaae40996"
      },
      "source": [
        "# creating a KFold object with 5 splits \n",
        "folds = KFold(n_splits = 10, shuffle = True, random_state = 4)\n",
        "\n",
        "# specify range of hyperparameters\n",
        "# Set the parameters by cross-validation\n",
        "hyper_params = [ {'gamma': [0.01, 0.001, 0.0001],\n",
        "                     'C': [1, 10, 100, 1000,2000]}]\n",
        "\n",
        "\n",
        "# specify model\n",
        "model = SVC(kernel=\"rbf\")\n",
        "\n",
        "# set up GridSearchCV()\n",
        "model_cv = GridSearchCV(estimator = model, \n",
        "                        param_grid = hyper_params, \n",
        "                        scoring= 'accuracy', \n",
        "                        cv = folds, \n",
        "                        verbose = 1,\n",
        "                        return_train_score=True)      \n",
        "\n",
        "# fit the model\n",
        "model_cv.fit(X_train, y_train)"
      ],
      "execution_count": null,
      "outputs": [
        {
          "output_type": "stream",
          "name": "stdout",
          "text": [
            "Fitting 10 folds for each of 15 candidates, totalling 150 fits\n"
          ]
        },
        {
          "output_type": "stream",
          "name": "stderr",
          "text": [
            "[Parallel(n_jobs=1)]: Using backend SequentialBackend with 1 concurrent workers.\n",
            "[Parallel(n_jobs=1)]: Done 150 out of 150 | elapsed:    0.4s finished\n"
          ]
        },
        {
          "output_type": "execute_result",
          "data": {
            "text/plain": [
              "GridSearchCV(cv=KFold(n_splits=10, random_state=4, shuffle=True),\n",
              "             error_score=nan,\n",
              "             estimator=SVC(C=1.0, break_ties=False, cache_size=200,\n",
              "                           class_weight=None, coef0=0.0,\n",
              "                           decision_function_shape='ovr', degree=3,\n",
              "                           gamma='scale', kernel='rbf', max_iter=-1,\n",
              "                           probability=False, random_state=None, shrinking=True,\n",
              "                           tol=0.001, verbose=False),\n",
              "             iid='deprecated', n_jobs=None,\n",
              "             param_grid=[{'C': [1, 10, 100, 1000, 2000],\n",
              "                          'gamma': [0.01, 0.001, 0.0001]}],\n",
              "             pre_dispatch='2*n_jobs', refit=True, return_train_score=True,\n",
              "             scoring='accuracy', verbose=1)"
            ]
          },
          "metadata": {},
          "execution_count": 68
        }
      ]
    },
    {
      "cell_type": "code",
      "metadata": {
        "colab": {
          "base_uri": "https://localhost:8080/"
        },
        "id": "FAb1vRqcTJ-S",
        "outputId": "154bb049-6e1f-456f-f497-82f9cb214d44"
      },
      "source": [
        "model_cv.best_params_"
      ],
      "execution_count": null,
      "outputs": [
        {
          "output_type": "execute_result",
          "data": {
            "text/plain": [
              "{'C': 2000, 'gamma': 0.01}"
            ]
          },
          "metadata": {},
          "execution_count": 69
        }
      ]
    },
    {
      "cell_type": "code",
      "metadata": {
        "colab": {
          "base_uri": "https://localhost:8080/"
        },
        "id": "WaZ4we_ATJ-S",
        "outputId": "71cc8c04-3300-4112-c155-a1c8de58c1d9"
      },
      "source": [
        "# Create a SVC classifier using an RBF kernel\n",
        "svm = SVC(kernel= 'rbf', random_state=0, gamma=0.01, C=2000)\n",
        "# Train the classifier\n",
        "svm.fit(X_train, y_train)"
      ],
      "execution_count": null,
      "outputs": [
        {
          "output_type": "execute_result",
          "data": {
            "text/plain": [
              "SVC(C=2000, break_ties=False, cache_size=200, class_weight=None, coef0=0.0,\n",
              "    decision_function_shape='ovr', degree=3, gamma=0.01, kernel='rbf',\n",
              "    max_iter=-1, probability=False, random_state=0, shrinking=True, tol=0.001,\n",
              "    verbose=False)"
            ]
          },
          "metadata": {},
          "execution_count": 72
        }
      ]
    },
    {
      "cell_type": "code",
      "metadata": {
        "colab": {
          "base_uri": "https://localhost:8080/"
        },
        "id": "Jbl1Qs6zTJ-S",
        "outputId": "999977e4-b316-4545-93b3-1aa69a263413"
      },
      "source": [
        "print(\"Train Accuracy is:\")\n",
        "predictedtrain = svm.predict(X_train)\n",
        "print(svm.score(X_train,y_train))\n",
        "print(\"Test Accuracy is:\")\n",
        "predicted = svm.predict(X_test)\n",
        "print(svm.score(X_test,y_test))"
      ],
      "execution_count": null,
      "outputs": [
        {
          "output_type": "stream",
          "name": "stdout",
          "text": [
            "Train Accuracy is:\n",
            "0.9857142857142858\n",
            "Test Accuracy is:\n",
            "0.9666666666666667\n"
          ]
        }
      ]
    },
    {
      "cell_type": "code",
      "metadata": {
        "id": "q2xORW_3S9SN"
      },
      "source": [
        ""
      ],
      "execution_count": null,
      "outputs": []
    }
  ]
}